{
  "nbformat": 4,
  "nbformat_minor": 0,
  "metadata": {
    "colab": {
      "name": "Copy of AML_Project5_Diabetes.ipynb",
      "provenance": [],
      "collapsed_sections": [],
      "include_colab_link": true
    },
    "kernelspec": {
      "name": "python3",
      "display_name": "Python 3"
    }
  },
  "cells": [
    {
      "cell_type": "markdown",
      "metadata": {
        "id": "view-in-github",
        "colab_type": "text"
      },
      "source": [
        "<a href=\"https://colab.research.google.com/github/gegretel/AML5/blob/master/Project5.ipynb\" target=\"_parent\"><img src=\"https://colab.research.google.com/assets/colab-badge.svg\" alt=\"Open In Colab\"/></a>"
      ]
    },
    {
      "cell_type": "markdown",
      "metadata": {
        "id": "SfKTaIoPotjZ",
        "colab_type": "text"
      },
      "source": [
        "# Project 5 - Team 2\n",
        "*   Joe\n",
        "*   Abby\n",
        "*   Getong\n",
        "\n",
        "In this project, we work on the data set that has been prepared to analyze factors relating to readmission as well as other outcomes pertaining to patients with diabetes.\n",
        "\n",
        "Data Set Information:\n",
        "\n",
        "The dataset represents 10 years (1999-2008) of clinical care at 130 US hospitals and integrated delivery networks. It includes over 50 features representing patient and hospital outcomes. Information was extracted from the database for encounters that satisfied the following criteria.\n",
        "\n",
        "1.   It is an inpatient encounter (a hospital admission).\n",
        "2.   It is a diabetic encounter, that is, one during which any kind of diabetes was entered to the system as a diagnosis.\n",
        "3.   The length of stay was at least 1 day and at most 14 days.\n",
        "4.   Laboratory tests were performed during the encounter.\n",
        "5.   Medications were administered during the encounter.\n",
        "6.   The data contains such attributes as patient number, race, gender, age, admission type, time in hospital, medical specialty of admitting physician, number of lab test performed, HbA1c test result, diagnosis, number of medication, diabetic medications, number of outpatient, inpatient, and emergency visits in the year before the hospitalization, etc.\n",
        "\n",
        "The following instructions have been performed:\n",
        "1.  Perform data scrubbing to deal with missing data, and then scale the data. \n",
        "2.  Find out which features have most influence on patients with diabetes or being readmitted, e.g., age, race, weight, blood pressure, etc.\n",
        "3.  Use RF and SVM (linear as well as nonlinear kernels , as necessary) to learn classification of diabetic patients and those being readmitted.\n",
        "4.  If using a LinearSVC, also use SVC and SGDClassifier to see if you can get them to roughly produce the same model.\n",
        "5.  Calculate and present performance parameters (e.g. accuracy, etc.) of each model using appropriate graphs such as bar charts."
      ]
    },
    {
      "cell_type": "code",
      "metadata": {
        "id": "tyQZ0Wv_olsU",
        "colab_type": "code",
        "colab": {}
      },
      "source": [
        "# Python ≥3.5 is required\n",
        "import sys\n",
        "assert sys.version_info >= (3, 5)\n",
        "# Scikit-Learn ≥0.20 is required\n",
        "import sklearn\n",
        "assert sklearn.__version__ >= \"0.20\"\n",
        "\n",
        "# Common imports\n",
        "import numpy as np\n",
        "import os\n",
        "\n",
        "# to make this notebook's output stable across runs\n",
        "np.random.seed(42)\n",
        "\n",
        "# To plot pretty figures\n",
        "%matplotlib inline\n",
        "import matplotlib as mpl\n",
        "import matplotlib.pyplot as plt\n",
        "mpl.rc('axes', labelsize=14)\n",
        "mpl.rc('xtick', labelsize=12)\n",
        "mpl.rc('ytick', labelsize=12)\n",
        "\n",
        "def save_fig(fig_id, tight_layout=True, fig_extension=\"png\", resolution=300):\n",
        "    path = os.path.join(IMAGES_PATH, fig_id + \".\" + fig_extension)\n",
        "    print(\"Saving figure\", fig_id)\n",
        "    if tight_layout:\n",
        "        plt.tight_layout()\n",
        "    plt.savefig(path, format=fig_extension, dpi=resolution)\n",
        "\n",
        "# Ignore useless warnings (see SciPy issue #5998)\n",
        "import warnings\n",
        "warnings.filterwarnings(action=\"ignore\", message=\"^internal gelsd\")"
      ],
      "execution_count": 0,
      "outputs": []
    },
    {
      "cell_type": "code",
      "metadata": {
        "id": "0aQQT9I1tPPb",
        "colab_type": "code",
        "outputId": "50fb0329-30a8-48d4-9a68-319e4a484984",
        "colab": {
          "base_uri": "https://localhost:8080/",
          "height": 34
        }
      },
      "source": [
        "from google.colab import drive\n",
        "drive.mount('/content/drive')"
      ],
      "execution_count": 0,
      "outputs": [
        {
          "output_type": "stream",
          "text": [
            "Drive already mounted at /content/drive; to attempt to forcibly remount, call drive.mount(\"/content/drive\", force_remount=True).\n"
          ],
          "name": "stdout"
        }
      ]
    },
    {
      "cell_type": "code",
      "metadata": {
        "id": "ZALy0ISLt0pu",
        "colab_type": "code",
        "outputId": "291ebee3-d4f9-404b-e8b0-65549dddfd7e",
        "colab": {
          "base_uri": "https://localhost:8080/",
          "height": 68
        }
      },
      "source": [
        "%ls /content"
      ],
      "execution_count": 0,
      "outputs": [
        {
          "output_type": "stream",
          "text": [
            "shell-init: error retrieving current directory: getcwd: cannot access parent directories: No such file or directory\n",
            "ls: cannot access '/content/gdrive': Transport endpoint is not connected\n",
            "\u001b[0m\u001b[01;34mdrive\u001b[0m/  \u001b[01;34mgdrive\u001b[0m/  \u001b[01;34msample_data\u001b[0m/\n"
          ],
          "name": "stdout"
        }
      ]
    },
    {
      "cell_type": "code",
      "metadata": {
        "id": "TZbgj6UeuF8b",
        "colab_type": "code",
        "colab": {}
      },
      "source": [
        "#%cd /content/drive/My Drive/Colab Notebooks"
      ],
      "execution_count": 0,
      "outputs": []
    },
    {
      "cell_type": "code",
      "metadata": {
        "id": "WUj7Xw90AmfW",
        "colab_type": "code",
        "outputId": "6d1b1204-f4ee-4ac1-e426-40b24063aec5",
        "colab": {
          "base_uri": "https://localhost:8080/",
          "height": 34
        }
      },
      "source": [
        "from google.colab import drive\n",
        "drive.mount('/content/gdrive')"
      ],
      "execution_count": 0,
      "outputs": [
        {
          "output_type": "stream",
          "text": [
            "Mounted at /content/gdrive\n"
          ],
          "name": "stdout"
        }
      ]
    },
    {
      "cell_type": "code",
      "metadata": {
        "id": "-ih08PiiAqFd",
        "colab_type": "code",
        "colab": {}
      },
      "source": [
        "import pandas as pd\n",
        "os.chdir(\"/content/gdrive/My Drive/\")"
      ],
      "execution_count": 0,
      "outputs": []
    },
    {
      "cell_type": "code",
      "metadata": {
        "id": "DOk3MJw0Asa0",
        "colab_type": "code",
        "outputId": "1d16657a-5a89-406b-f1ca-f21f24def47d",
        "colab": {
          "base_uri": "https://localhost:8080/",
          "height": 326
        }
      },
      "source": [
        "diabetic=pd.read_csv(\"./Colab Notebooks/diabetic_data.csv\")\n",
        "diabetic.head()"
      ],
      "execution_count": 0,
      "outputs": [
        {
          "output_type": "execute_result",
          "data": {
            "text/html": [
              "<div>\n",
              "<style scoped>\n",
              "    .dataframe tbody tr th:only-of-type {\n",
              "        vertical-align: middle;\n",
              "    }\n",
              "\n",
              "    .dataframe tbody tr th {\n",
              "        vertical-align: top;\n",
              "    }\n",
              "\n",
              "    .dataframe thead th {\n",
              "        text-align: right;\n",
              "    }\n",
              "</style>\n",
              "<table border=\"1\" class=\"dataframe\">\n",
              "  <thead>\n",
              "    <tr style=\"text-align: right;\">\n",
              "      <th></th>\n",
              "      <th>encounter_id</th>\n",
              "      <th>patient_nbr</th>\n",
              "      <th>race</th>\n",
              "      <th>gender</th>\n",
              "      <th>age</th>\n",
              "      <th>weight</th>\n",
              "      <th>admission_type_id</th>\n",
              "      <th>discharge_disposition_id</th>\n",
              "      <th>admission_source_id</th>\n",
              "      <th>time_in_hospital</th>\n",
              "      <th>payer_code</th>\n",
              "      <th>medical_specialty</th>\n",
              "      <th>num_lab_procedures</th>\n",
              "      <th>num_procedures</th>\n",
              "      <th>num_medications</th>\n",
              "      <th>number_outpatient</th>\n",
              "      <th>number_emergency</th>\n",
              "      <th>number_inpatient</th>\n",
              "      <th>diag_1</th>\n",
              "      <th>diag_2</th>\n",
              "      <th>diag_3</th>\n",
              "      <th>number_diagnoses</th>\n",
              "      <th>max_glu_serum</th>\n",
              "      <th>A1Cresult</th>\n",
              "      <th>metformin</th>\n",
              "      <th>repaglinide</th>\n",
              "      <th>nateglinide</th>\n",
              "      <th>chlorpropamide</th>\n",
              "      <th>glimepiride</th>\n",
              "      <th>acetohexamide</th>\n",
              "      <th>glipizide</th>\n",
              "      <th>glyburide</th>\n",
              "      <th>tolbutamide</th>\n",
              "      <th>pioglitazone</th>\n",
              "      <th>rosiglitazone</th>\n",
              "      <th>acarbose</th>\n",
              "      <th>miglitol</th>\n",
              "      <th>troglitazone</th>\n",
              "      <th>tolazamide</th>\n",
              "      <th>examide</th>\n",
              "      <th>citoglipton</th>\n",
              "      <th>insulin</th>\n",
              "      <th>glyburide-metformin</th>\n",
              "      <th>glipizide-metformin</th>\n",
              "      <th>glimepiride-pioglitazone</th>\n",
              "      <th>metformin-rosiglitazone</th>\n",
              "      <th>metformin-pioglitazone</th>\n",
              "      <th>change</th>\n",
              "      <th>diabetesMed</th>\n",
              "      <th>readmitted</th>\n",
              "    </tr>\n",
              "  </thead>\n",
              "  <tbody>\n",
              "    <tr>\n",
              "      <th>0</th>\n",
              "      <td>2278392</td>\n",
              "      <td>8222157</td>\n",
              "      <td>Caucasian</td>\n",
              "      <td>Female</td>\n",
              "      <td>[0-10)</td>\n",
              "      <td>?</td>\n",
              "      <td>6</td>\n",
              "      <td>25</td>\n",
              "      <td>1</td>\n",
              "      <td>1</td>\n",
              "      <td>?</td>\n",
              "      <td>Pediatrics-Endocrinology</td>\n",
              "      <td>41</td>\n",
              "      <td>0</td>\n",
              "      <td>1</td>\n",
              "      <td>0</td>\n",
              "      <td>0</td>\n",
              "      <td>0</td>\n",
              "      <td>250.83</td>\n",
              "      <td>?</td>\n",
              "      <td>?</td>\n",
              "      <td>1</td>\n",
              "      <td>None</td>\n",
              "      <td>None</td>\n",
              "      <td>No</td>\n",
              "      <td>No</td>\n",
              "      <td>No</td>\n",
              "      <td>No</td>\n",
              "      <td>No</td>\n",
              "      <td>No</td>\n",
              "      <td>No</td>\n",
              "      <td>No</td>\n",
              "      <td>No</td>\n",
              "      <td>No</td>\n",
              "      <td>No</td>\n",
              "      <td>No</td>\n",
              "      <td>No</td>\n",
              "      <td>No</td>\n",
              "      <td>No</td>\n",
              "      <td>No</td>\n",
              "      <td>No</td>\n",
              "      <td>No</td>\n",
              "      <td>No</td>\n",
              "      <td>No</td>\n",
              "      <td>No</td>\n",
              "      <td>No</td>\n",
              "      <td>No</td>\n",
              "      <td>No</td>\n",
              "      <td>No</td>\n",
              "      <td>NO</td>\n",
              "    </tr>\n",
              "    <tr>\n",
              "      <th>1</th>\n",
              "      <td>149190</td>\n",
              "      <td>55629189</td>\n",
              "      <td>Caucasian</td>\n",
              "      <td>Female</td>\n",
              "      <td>[10-20)</td>\n",
              "      <td>?</td>\n",
              "      <td>1</td>\n",
              "      <td>1</td>\n",
              "      <td>7</td>\n",
              "      <td>3</td>\n",
              "      <td>?</td>\n",
              "      <td>?</td>\n",
              "      <td>59</td>\n",
              "      <td>0</td>\n",
              "      <td>18</td>\n",
              "      <td>0</td>\n",
              "      <td>0</td>\n",
              "      <td>0</td>\n",
              "      <td>276</td>\n",
              "      <td>250.01</td>\n",
              "      <td>255</td>\n",
              "      <td>9</td>\n",
              "      <td>None</td>\n",
              "      <td>None</td>\n",
              "      <td>No</td>\n",
              "      <td>No</td>\n",
              "      <td>No</td>\n",
              "      <td>No</td>\n",
              "      <td>No</td>\n",
              "      <td>No</td>\n",
              "      <td>No</td>\n",
              "      <td>No</td>\n",
              "      <td>No</td>\n",
              "      <td>No</td>\n",
              "      <td>No</td>\n",
              "      <td>No</td>\n",
              "      <td>No</td>\n",
              "      <td>No</td>\n",
              "      <td>No</td>\n",
              "      <td>No</td>\n",
              "      <td>No</td>\n",
              "      <td>Up</td>\n",
              "      <td>No</td>\n",
              "      <td>No</td>\n",
              "      <td>No</td>\n",
              "      <td>No</td>\n",
              "      <td>No</td>\n",
              "      <td>Ch</td>\n",
              "      <td>Yes</td>\n",
              "      <td>&gt;30</td>\n",
              "    </tr>\n",
              "    <tr>\n",
              "      <th>2</th>\n",
              "      <td>64410</td>\n",
              "      <td>86047875</td>\n",
              "      <td>AfricanAmerican</td>\n",
              "      <td>Female</td>\n",
              "      <td>[20-30)</td>\n",
              "      <td>?</td>\n",
              "      <td>1</td>\n",
              "      <td>1</td>\n",
              "      <td>7</td>\n",
              "      <td>2</td>\n",
              "      <td>?</td>\n",
              "      <td>?</td>\n",
              "      <td>11</td>\n",
              "      <td>5</td>\n",
              "      <td>13</td>\n",
              "      <td>2</td>\n",
              "      <td>0</td>\n",
              "      <td>1</td>\n",
              "      <td>648</td>\n",
              "      <td>250</td>\n",
              "      <td>V27</td>\n",
              "      <td>6</td>\n",
              "      <td>None</td>\n",
              "      <td>None</td>\n",
              "      <td>No</td>\n",
              "      <td>No</td>\n",
              "      <td>No</td>\n",
              "      <td>No</td>\n",
              "      <td>No</td>\n",
              "      <td>No</td>\n",
              "      <td>Steady</td>\n",
              "      <td>No</td>\n",
              "      <td>No</td>\n",
              "      <td>No</td>\n",
              "      <td>No</td>\n",
              "      <td>No</td>\n",
              "      <td>No</td>\n",
              "      <td>No</td>\n",
              "      <td>No</td>\n",
              "      <td>No</td>\n",
              "      <td>No</td>\n",
              "      <td>No</td>\n",
              "      <td>No</td>\n",
              "      <td>No</td>\n",
              "      <td>No</td>\n",
              "      <td>No</td>\n",
              "      <td>No</td>\n",
              "      <td>No</td>\n",
              "      <td>Yes</td>\n",
              "      <td>NO</td>\n",
              "    </tr>\n",
              "    <tr>\n",
              "      <th>3</th>\n",
              "      <td>500364</td>\n",
              "      <td>82442376</td>\n",
              "      <td>Caucasian</td>\n",
              "      <td>Male</td>\n",
              "      <td>[30-40)</td>\n",
              "      <td>?</td>\n",
              "      <td>1</td>\n",
              "      <td>1</td>\n",
              "      <td>7</td>\n",
              "      <td>2</td>\n",
              "      <td>?</td>\n",
              "      <td>?</td>\n",
              "      <td>44</td>\n",
              "      <td>1</td>\n",
              "      <td>16</td>\n",
              "      <td>0</td>\n",
              "      <td>0</td>\n",
              "      <td>0</td>\n",
              "      <td>8</td>\n",
              "      <td>250.43</td>\n",
              "      <td>403</td>\n",
              "      <td>7</td>\n",
              "      <td>None</td>\n",
              "      <td>None</td>\n",
              "      <td>No</td>\n",
              "      <td>No</td>\n",
              "      <td>No</td>\n",
              "      <td>No</td>\n",
              "      <td>No</td>\n",
              "      <td>No</td>\n",
              "      <td>No</td>\n",
              "      <td>No</td>\n",
              "      <td>No</td>\n",
              "      <td>No</td>\n",
              "      <td>No</td>\n",
              "      <td>No</td>\n",
              "      <td>No</td>\n",
              "      <td>No</td>\n",
              "      <td>No</td>\n",
              "      <td>No</td>\n",
              "      <td>No</td>\n",
              "      <td>Up</td>\n",
              "      <td>No</td>\n",
              "      <td>No</td>\n",
              "      <td>No</td>\n",
              "      <td>No</td>\n",
              "      <td>No</td>\n",
              "      <td>Ch</td>\n",
              "      <td>Yes</td>\n",
              "      <td>NO</td>\n",
              "    </tr>\n",
              "    <tr>\n",
              "      <th>4</th>\n",
              "      <td>16680</td>\n",
              "      <td>42519267</td>\n",
              "      <td>Caucasian</td>\n",
              "      <td>Male</td>\n",
              "      <td>[40-50)</td>\n",
              "      <td>?</td>\n",
              "      <td>1</td>\n",
              "      <td>1</td>\n",
              "      <td>7</td>\n",
              "      <td>1</td>\n",
              "      <td>?</td>\n",
              "      <td>?</td>\n",
              "      <td>51</td>\n",
              "      <td>0</td>\n",
              "      <td>8</td>\n",
              "      <td>0</td>\n",
              "      <td>0</td>\n",
              "      <td>0</td>\n",
              "      <td>197</td>\n",
              "      <td>157</td>\n",
              "      <td>250</td>\n",
              "      <td>5</td>\n",
              "      <td>None</td>\n",
              "      <td>None</td>\n",
              "      <td>No</td>\n",
              "      <td>No</td>\n",
              "      <td>No</td>\n",
              "      <td>No</td>\n",
              "      <td>No</td>\n",
              "      <td>No</td>\n",
              "      <td>Steady</td>\n",
              "      <td>No</td>\n",
              "      <td>No</td>\n",
              "      <td>No</td>\n",
              "      <td>No</td>\n",
              "      <td>No</td>\n",
              "      <td>No</td>\n",
              "      <td>No</td>\n",
              "      <td>No</td>\n",
              "      <td>No</td>\n",
              "      <td>No</td>\n",
              "      <td>Steady</td>\n",
              "      <td>No</td>\n",
              "      <td>No</td>\n",
              "      <td>No</td>\n",
              "      <td>No</td>\n",
              "      <td>No</td>\n",
              "      <td>Ch</td>\n",
              "      <td>Yes</td>\n",
              "      <td>NO</td>\n",
              "    </tr>\n",
              "  </tbody>\n",
              "</table>\n",
              "</div>"
            ],
            "text/plain": [
              "   encounter_id  patient_nbr             race  ... change diabetesMed readmitted\n",
              "0       2278392      8222157        Caucasian  ...     No          No         NO\n",
              "1        149190     55629189        Caucasian  ...     Ch         Yes        >30\n",
              "2         64410     86047875  AfricanAmerican  ...     No         Yes         NO\n",
              "3        500364     82442376        Caucasian  ...     Ch         Yes         NO\n",
              "4         16680     42519267        Caucasian  ...     Ch         Yes         NO\n",
              "\n",
              "[5 rows x 50 columns]"
            ]
          },
          "metadata": {
            "tags": []
          },
          "execution_count": 18
        }
      ]
    },
    {
      "cell_type": "code",
      "metadata": {
        "id": "0_HDTY8VuN4v",
        "colab_type": "code",
        "outputId": "053a7aa1-0374-4d0c-fb6d-31ed25471524",
        "colab": {
          "base_uri": "https://localhost:8080/",
          "height": 952
        }
      },
      "source": [
        "diabetic.info()"
      ],
      "execution_count": 0,
      "outputs": [
        {
          "output_type": "stream",
          "text": [
            "<class 'pandas.core.frame.DataFrame'>\n",
            "RangeIndex: 101766 entries, 0 to 101765\n",
            "Data columns (total 50 columns):\n",
            "encounter_id                101766 non-null int64\n",
            "patient_nbr                 101766 non-null int64\n",
            "race                        101766 non-null object\n",
            "gender                      101766 non-null object\n",
            "age                         101766 non-null object\n",
            "weight                      101766 non-null object\n",
            "admission_type_id           101766 non-null int64\n",
            "discharge_disposition_id    101766 non-null int64\n",
            "admission_source_id         101766 non-null int64\n",
            "time_in_hospital            101766 non-null int64\n",
            "payer_code                  101766 non-null object\n",
            "medical_specialty           101766 non-null object\n",
            "num_lab_procedures          101766 non-null int64\n",
            "num_procedures              101766 non-null int64\n",
            "num_medications             101766 non-null int64\n",
            "number_outpatient           101766 non-null int64\n",
            "number_emergency            101766 non-null int64\n",
            "number_inpatient            101766 non-null int64\n",
            "diag_1                      101766 non-null object\n",
            "diag_2                      101766 non-null object\n",
            "diag_3                      101766 non-null object\n",
            "number_diagnoses            101766 non-null int64\n",
            "max_glu_serum               101766 non-null object\n",
            "A1Cresult                   101766 non-null object\n",
            "metformin                   101766 non-null object\n",
            "repaglinide                 101766 non-null object\n",
            "nateglinide                 101766 non-null object\n",
            "chlorpropamide              101766 non-null object\n",
            "glimepiride                 101766 non-null object\n",
            "acetohexamide               101766 non-null object\n",
            "glipizide                   101766 non-null object\n",
            "glyburide                   101766 non-null object\n",
            "tolbutamide                 101766 non-null object\n",
            "pioglitazone                101766 non-null object\n",
            "rosiglitazone               101766 non-null object\n",
            "acarbose                    101766 non-null object\n",
            "miglitol                    101766 non-null object\n",
            "troglitazone                101766 non-null object\n",
            "tolazamide                  101766 non-null object\n",
            "examide                     101766 non-null object\n",
            "citoglipton                 101766 non-null object\n",
            "insulin                     101766 non-null object\n",
            "glyburide-metformin         101766 non-null object\n",
            "glipizide-metformin         101766 non-null object\n",
            "glimepiride-pioglitazone    101766 non-null object\n",
            "metformin-rosiglitazone     101766 non-null object\n",
            "metformin-pioglitazone      101766 non-null object\n",
            "change                      101766 non-null object\n",
            "diabetesMed                 101766 non-null object\n",
            "readmitted                  101766 non-null object\n",
            "dtypes: int64(13), object(37)\n",
            "memory usage: 38.8+ MB\n"
          ],
          "name": "stdout"
        }
      ]
    },
    {
      "cell_type": "markdown",
      "metadata": {
        "id": "GHC8SWNkaiZB",
        "colab_type": "text"
      },
      "source": [
        "# Data Scrubbing"
      ]
    },
    {
      "cell_type": "markdown",
      "metadata": {
        "id": "CiH9gubFKtCF",
        "colab_type": "text"
      },
      "source": [
        "Weight attribute was considered to be too\n",
        "sparse and it was not included in further analysis. \n",
        "\n",
        "Payer code was removed since it had a high percentage of missing values and it was not considered relevant to the outcome.\n",
        "\n",
        "Medical specialty attribute has over 50% missing data.\n",
        "\n",
        "Therefore, these three attributes are dropped.\n",
        "\n",
        "Reference: http://downloads.hindawi.com/journals/bmri/2014/781670.pdf"
      ]
    },
    {
      "cell_type": "code",
      "metadata": {
        "id": "GsonQ6MaLIIZ",
        "colab_type": "code",
        "colab": {}
      },
      "source": [
        "diabetic = diabetic.drop(\"weight\", axis=1)\n",
        "diabetic = diabetic.drop(\"payer_code\", axis=1)\n",
        "diabetic = diabetic.drop(\"medical_specialty\", axis=1)\n"
      ],
      "execution_count": 0,
      "outputs": []
    },
    {
      "cell_type": "code",
      "metadata": {
        "id": "FVsFXZKkMCki",
        "colab_type": "code",
        "outputId": "0c3d60d1-ab3b-4995-abcc-8c517b82a47a",
        "colab": {
          "base_uri": "https://localhost:8080/",
          "height": 901
        }
      },
      "source": [
        "diabetic.info()"
      ],
      "execution_count": 0,
      "outputs": [
        {
          "output_type": "stream",
          "text": [
            "<class 'pandas.core.frame.DataFrame'>\n",
            "RangeIndex: 101766 entries, 0 to 101765\n",
            "Data columns (total 47 columns):\n",
            "encounter_id                101766 non-null int64\n",
            "patient_nbr                 101766 non-null int64\n",
            "race                        101766 non-null object\n",
            "gender                      101766 non-null object\n",
            "age                         101766 non-null object\n",
            "admission_type_id           101766 non-null int64\n",
            "discharge_disposition_id    101766 non-null int64\n",
            "admission_source_id         101766 non-null int64\n",
            "time_in_hospital            101766 non-null int64\n",
            "num_lab_procedures          101766 non-null int64\n",
            "num_procedures              101766 non-null int64\n",
            "num_medications             101766 non-null int64\n",
            "number_outpatient           101766 non-null int64\n",
            "number_emergency            101766 non-null int64\n",
            "number_inpatient            101766 non-null int64\n",
            "diag_1                      101766 non-null object\n",
            "diag_2                      101766 non-null object\n",
            "diag_3                      101766 non-null object\n",
            "number_diagnoses            101766 non-null int64\n",
            "max_glu_serum               101766 non-null object\n",
            "A1Cresult                   101766 non-null object\n",
            "metformin                   101766 non-null object\n",
            "repaglinide                 101766 non-null object\n",
            "nateglinide                 101766 non-null object\n",
            "chlorpropamide              101766 non-null object\n",
            "glimepiride                 101766 non-null object\n",
            "acetohexamide               101766 non-null object\n",
            "glipizide                   101766 non-null object\n",
            "glyburide                   101766 non-null object\n",
            "tolbutamide                 101766 non-null object\n",
            "pioglitazone                101766 non-null object\n",
            "rosiglitazone               101766 non-null object\n",
            "acarbose                    101766 non-null object\n",
            "miglitol                    101766 non-null object\n",
            "troglitazone                101766 non-null object\n",
            "tolazamide                  101766 non-null object\n",
            "examide                     101766 non-null object\n",
            "citoglipton                 101766 non-null object\n",
            "insulin                     101766 non-null object\n",
            "glyburide-metformin         101766 non-null object\n",
            "glipizide-metformin         101766 non-null object\n",
            "glimepiride-pioglitazone    101766 non-null object\n",
            "metformin-rosiglitazone     101766 non-null object\n",
            "metformin-pioglitazone      101766 non-null object\n",
            "change                      101766 non-null object\n",
            "diabetesMed                 101766 non-null object\n",
            "readmitted                  101766 non-null object\n",
            "dtypes: int64(13), object(34)\n",
            "memory usage: 36.5+ MB\n"
          ],
          "name": "stdout"
        }
      ]
    },
    {
      "cell_type": "markdown",
      "metadata": {
        "id": "fci48l8aTdFH",
        "colab_type": "text"
      },
      "source": [
        "Since we are primarily interested in factors that lead to early readmission, we defined the readmission attribute (outcome) as having two values: “readmitted,” if the patient was readmitted within 30 days of discharge or “otherwise,” which covers both readmission after 30 days and no readmission at all.\n",
        "\n",
        "Reference: http://downloads.hindawi.com/journals/bmri/2014/781670.pdf"
      ]
    },
    {
      "cell_type": "code",
      "metadata": {
        "id": "aDvNwJRiUd3n",
        "colab_type": "code",
        "colab": {}
      },
      "source": [
        "diabetic = diabetic.replace({\"readmitted\": \">30\"}, \"No\")\n",
        "diabetic = diabetic.replace({\"readmitted\": \"<30\"}, \"Yes\")\n"
      ],
      "execution_count": 0,
      "outputs": []
    },
    {
      "cell_type": "code",
      "metadata": {
        "id": "9pmnRy7_a8hv",
        "colab_type": "code",
        "outputId": "c6d417f2-f2eb-40ef-d0ad-16dd0eefd433",
        "colab": {
          "base_uri": "https://localhost:8080/",
          "height": 289
        }
      },
      "source": [
        "diabetic[\"readmitted\"][:15]"
      ],
      "execution_count": 0,
      "outputs": [
        {
          "output_type": "execute_result",
          "data": {
            "text/plain": [
              "0      NO\n",
              "1      No\n",
              "2      NO\n",
              "3      NO\n",
              "4      NO\n",
              "5      No\n",
              "6      NO\n",
              "7      No\n",
              "8      NO\n",
              "9      NO\n",
              "10     No\n",
              "11    Yes\n",
              "12    Yes\n",
              "13     NO\n",
              "14     No\n",
              "Name: readmitted, dtype: object"
            ]
          },
          "metadata": {
            "tags": []
          },
          "execution_count": 23
        }
      ]
    },
    {
      "cell_type": "markdown",
      "metadata": {
        "id": "GrgBLUp9IF6M",
        "colab_type": "text"
      },
      "source": [
        "We thus used only one encounter per patient; in particular, we considered only the first encounter for each patient as the primary admission and determined whether or not they were readmitted within 30 days."
      ]
    },
    {
      "cell_type": "code",
      "metadata": {
        "id": "TPDIQCCqIhcO",
        "colab_type": "code",
        "colab": {}
      },
      "source": [
        "diabetic = diabetic.drop_duplicates(subset=[\"patient_nbr\"])"
      ],
      "execution_count": 0,
      "outputs": []
    },
    {
      "cell_type": "code",
      "metadata": {
        "id": "DS_VvU9lI2ql",
        "colab_type": "code",
        "outputId": "a22a40cd-c5ae-4055-c8bb-963e4706dfe8",
        "colab": {
          "base_uri": "https://localhost:8080/",
          "height": 34
        }
      },
      "source": [
        "diabetic[\"encounter_id\"].count()"
      ],
      "execution_count": 0,
      "outputs": [
        {
          "output_type": "execute_result",
          "data": {
            "text/plain": [
              "71518"
            ]
          },
          "metadata": {
            "tags": []
          },
          "execution_count": 25
        }
      ]
    },
    {
      "cell_type": "markdown",
      "metadata": {
        "id": "CoLf4L91JGxe",
        "colab_type": "text"
      },
      "source": [
        "Now we have 71518 distinctive patients records without same patients that have multiple visit records."
      ]
    },
    {
      "cell_type": "markdown",
      "metadata": {
        "id": "qNj5KXXRX-ud",
        "colab_type": "text"
      },
      "source": [
        "Then we drop rows that indicates the patient was deceased which means that they will not be readmitted."
      ]
    },
    {
      "cell_type": "code",
      "metadata": {
        "id": "P3RFM0jiYm70",
        "colab_type": "code",
        "colab": {}
      },
      "source": [
        "diabetic = diabetic[diabetic.discharge_disposition_id != 11 ]"
      ],
      "execution_count": 0,
      "outputs": []
    },
    {
      "cell_type": "code",
      "metadata": {
        "id": "IkGrJCszY9UO",
        "colab_type": "code",
        "outputId": "986d6db2-dc39-4ced-98dd-195156dd3c9e",
        "colab": {
          "base_uri": "https://localhost:8080/",
          "height": 34
        }
      },
      "source": [
        "diabetic[\"encounter_id\"].count()"
      ],
      "execution_count": 0,
      "outputs": [
        {
          "output_type": "execute_result",
          "data": {
            "text/plain": [
              "70441"
            ]
          },
          "metadata": {
            "tags": []
          },
          "execution_count": 27
        }
      ]
    },
    {
      "cell_type": "code",
      "metadata": {
        "id": "0vQV0ngCPzyR",
        "colab_type": "code",
        "outputId": "2745c69b-3cf0-4b13-ed69-7cbe8fad8614",
        "colab": {
          "base_uri": "https://localhost:8080/",
          "height": 374
        }
      },
      "source": [
        "diabetic[\"race\"][:20]"
      ],
      "execution_count": 0,
      "outputs": [
        {
          "output_type": "execute_result",
          "data": {
            "text/plain": [
              "0           Caucasian\n",
              "1           Caucasian\n",
              "2     AfricanAmerican\n",
              "3           Caucasian\n",
              "4           Caucasian\n",
              "5           Caucasian\n",
              "6           Caucasian\n",
              "7           Caucasian\n",
              "8           Caucasian\n",
              "9           Caucasian\n",
              "10    AfricanAmerican\n",
              "11    AfricanAmerican\n",
              "12          Caucasian\n",
              "13          Caucasian\n",
              "14    AfricanAmerican\n",
              "15    AfricanAmerican\n",
              "16    AfricanAmerican\n",
              "17          Caucasian\n",
              "18    AfricanAmerican\n",
              "19                  ?\n",
              "Name: race, dtype: object"
            ]
          },
          "metadata": {
            "tags": []
          },
          "execution_count": 28
        }
      ]
    },
    {
      "cell_type": "markdown",
      "metadata": {
        "id": "_VAoKWFbOpFh",
        "colab_type": "text"
      },
      "source": [
        "Columns \"Race\" have 2% missing data, it's not a lot, therefore they are filled with \"Other\"."
      ]
    },
    {
      "cell_type": "code",
      "metadata": {
        "id": "ccWMJWkAJTE_",
        "colab_type": "code",
        "colab": {}
      },
      "source": [
        "diabetic[\"race\"].replace(\"?\",\"Other\",inplace = True)"
      ],
      "execution_count": 0,
      "outputs": []
    },
    {
      "cell_type": "code",
      "metadata": {
        "id": "xvWQ13YDQv15",
        "colab_type": "code",
        "outputId": "0d062fc6-ee6f-4006-ac2b-71b5db8293d6",
        "colab": {
          "base_uri": "https://localhost:8080/",
          "height": 374
        }
      },
      "source": [
        "diabetic[\"race\"][:20]"
      ],
      "execution_count": 0,
      "outputs": [
        {
          "output_type": "execute_result",
          "data": {
            "text/plain": [
              "0           Caucasian\n",
              "1           Caucasian\n",
              "2     AfricanAmerican\n",
              "3           Caucasian\n",
              "4           Caucasian\n",
              "5           Caucasian\n",
              "6           Caucasian\n",
              "7           Caucasian\n",
              "8           Caucasian\n",
              "9           Caucasian\n",
              "10    AfricanAmerican\n",
              "11    AfricanAmerican\n",
              "12          Caucasian\n",
              "13          Caucasian\n",
              "14    AfricanAmerican\n",
              "15    AfricanAmerican\n",
              "16    AfricanAmerican\n",
              "17          Caucasian\n",
              "18    AfricanAmerican\n",
              "19              Other\n",
              "Name: race, dtype: object"
            ]
          },
          "metadata": {
            "tags": []
          },
          "execution_count": 30
        }
      ]
    },
    {
      "cell_type": "markdown",
      "metadata": {
        "id": "3WgGATt5RC6R",
        "colab_type": "text"
      },
      "source": [
        "Then we'll need to make a desicion on other columns which has small amount of missing data, including \"diag_1\" <0.1%, \"diag_2\" 0.3%, \"diag_3\" 1.3%."
      ]
    },
    {
      "cell_type": "markdown",
      "metadata": {
        "id": "C0wsYgQWTCb8",
        "colab_type": "text"
      },
      "source": [
        "Since this project is only targeting the diabetes here which has value as 250.xx. All values other than this tag will be taged as 'No' while all diagnose as diabetes will be taged as 'Yes'. "
      ]
    },
    {
      "cell_type": "code",
      "metadata": {
        "id": "GMiZV32tUeMp",
        "colab_type": "code",
        "outputId": "5fd72c5d-46f7-4eaa-8828-6dcaf4dfbe4a",
        "colab": {
          "base_uri": "https://localhost:8080/",
          "height": 204
        }
      },
      "source": [
        "diabetic[\"diag_1\"][0:10]"
      ],
      "execution_count": 0,
      "outputs": [
        {
          "output_type": "execute_result",
          "data": {
            "text/plain": [
              "0    250.83\n",
              "1       276\n",
              "2       648\n",
              "3         8\n",
              "4       197\n",
              "5       414\n",
              "6       414\n",
              "7       428\n",
              "8       398\n",
              "9       434\n",
              "Name: diag_1, dtype: object"
            ]
          },
          "metadata": {
            "tags": []
          },
          "execution_count": 31
        }
      ]
    },
    {
      "cell_type": "code",
      "metadata": {
        "id": "Reh-4nAcTCLW",
        "colab_type": "code",
        "colab": {}
      },
      "source": [
        "diabetic[\"diag_1\"].replace(\"^(?!250).*\",\"No\",inplace = True,regex=True)\n",
        "diabetic[\"diag_1\"].replace(\"^250.*\",\"Yes\",inplace = True,regex=True)"
      ],
      "execution_count": 0,
      "outputs": []
    },
    {
      "cell_type": "code",
      "metadata": {
        "id": "TniwX9caUjhq",
        "colab_type": "code",
        "outputId": "9ea42923-50e7-4c36-a75c-85e9974a073a",
        "colab": {
          "base_uri": "https://localhost:8080/",
          "height": 204
        }
      },
      "source": [
        "diabetic[\"diag_1\"][0:10]"
      ],
      "execution_count": 0,
      "outputs": [
        {
          "output_type": "execute_result",
          "data": {
            "text/plain": [
              "0    Yes\n",
              "1     No\n",
              "2     No\n",
              "3     No\n",
              "4     No\n",
              "5     No\n",
              "6     No\n",
              "7     No\n",
              "8     No\n",
              "9     No\n",
              "Name: diag_1, dtype: object"
            ]
          },
          "metadata": {
            "tags": []
          },
          "execution_count": 33
        }
      ]
    },
    {
      "cell_type": "markdown",
      "metadata": {
        "id": "UxIU4IAXSvTS",
        "colab_type": "text"
      },
      "source": [
        "Let's do the same on 'diag_2' and 'diag_3'."
      ]
    },
    {
      "cell_type": "code",
      "metadata": {
        "id": "ls9HAAXMYu1x",
        "colab_type": "code",
        "colab": {}
      },
      "source": [
        "diabetic[\"diag_2\"].replace(\"^(?!250).*\",\"No\",inplace = True,regex=True)\n",
        "diabetic[\"diag_2\"].replace(\"^250.*\",\"Yes\",inplace = True,regex=True)\n",
        "diabetic[\"diag_3\"].replace(\"^(?!250).*\",\"No\",inplace = True,regex=True)\n",
        "diabetic[\"diag_3\"].replace(\"^250.*\",\"Yes\",inplace = True,regex=True)"
      ],
      "execution_count": 0,
      "outputs": []
    },
    {
      "cell_type": "code",
      "metadata": {
        "id": "u8cXDmauY229",
        "colab_type": "code",
        "outputId": "81f1c3bb-2db9-4ee2-c06c-19e7ed8e877e",
        "colab": {
          "base_uri": "https://localhost:8080/",
          "height": 204
        }
      },
      "source": [
        "diabetic[\"diag_2\"][0:10]"
      ],
      "execution_count": 0,
      "outputs": [
        {
          "output_type": "execute_result",
          "data": {
            "text/plain": [
              "0     No\n",
              "1    Yes\n",
              "2    Yes\n",
              "3    Yes\n",
              "4     No\n",
              "5     No\n",
              "6     No\n",
              "7     No\n",
              "8     No\n",
              "9     No\n",
              "Name: diag_2, dtype: object"
            ]
          },
          "metadata": {
            "tags": []
          },
          "execution_count": 35
        }
      ]
    },
    {
      "cell_type": "markdown",
      "metadata": {
        "id": "jRtzy2kRZ-p3",
        "colab_type": "text"
      },
      "source": [
        "Now, all missing data have been handled. Since there are three diagnoses in the columns, here we unite these three columns into 1 when diagnose of diabetes exist in one of the three."
      ]
    },
    {
      "cell_type": "code",
      "metadata": {
        "id": "AnVfmC3-vQQ-",
        "colab_type": "code",
        "colab": {}
      },
      "source": [
        "diabetic[\"Cons_diag\"] = 0"
      ],
      "execution_count": 0,
      "outputs": []
    },
    {
      "cell_type": "markdown",
      "metadata": {
        "id": "YK4zVLzo0TXl",
        "colab_type": "text"
      },
      "source": [
        "Value \"1\" means the patient was once diagnosed for diabetes, whereas \"0\" means no diabete diagnosed."
      ]
    },
    {
      "cell_type": "code",
      "metadata": {
        "id": "bTCxoc0slv0b",
        "colab_type": "code",
        "outputId": "f1993f76-36e2-4f83-881e-06f4b4894b8e",
        "colab": {
          "base_uri": "https://localhost:8080/",
          "height": 272
        }
      },
      "source": [
        "diabetic[\"Cons_diag\"][diabetic.diag_1==\"Yes\"] = 1\n",
        "diabetic[\"Cons_diag\"][diabetic.diag_2==\"Yes\"] = 1\n",
        "diabetic[\"Cons_diag\"][diabetic.diag_3==\"Yes\"] = 1"
      ],
      "execution_count": 0,
      "outputs": [
        {
          "output_type": "stream",
          "text": [
            "/usr/local/lib/python3.6/dist-packages/ipykernel_launcher.py:1: SettingWithCopyWarning: \n",
            "A value is trying to be set on a copy of a slice from a DataFrame\n",
            "\n",
            "See the caveats in the documentation: http://pandas.pydata.org/pandas-docs/stable/user_guide/indexing.html#returning-a-view-versus-a-copy\n",
            "  \"\"\"Entry point for launching an IPython kernel.\n",
            "/usr/local/lib/python3.6/dist-packages/ipykernel_launcher.py:2: SettingWithCopyWarning: \n",
            "A value is trying to be set on a copy of a slice from a DataFrame\n",
            "\n",
            "See the caveats in the documentation: http://pandas.pydata.org/pandas-docs/stable/user_guide/indexing.html#returning-a-view-versus-a-copy\n",
            "  \n",
            "/usr/local/lib/python3.6/dist-packages/ipykernel_launcher.py:3: SettingWithCopyWarning: \n",
            "A value is trying to be set on a copy of a slice from a DataFrame\n",
            "\n",
            "See the caveats in the documentation: http://pandas.pydata.org/pandas-docs/stable/user_guide/indexing.html#returning-a-view-versus-a-copy\n",
            "  This is separate from the ipykernel package so we can avoid doing imports until\n"
          ],
          "name": "stderr"
        }
      ]
    },
    {
      "cell_type": "code",
      "metadata": {
        "id": "UxPyG0pgy0ne",
        "colab_type": "code",
        "outputId": "d3c3dc00-7923-4b0b-dd68-e958f066f69d",
        "colab": {
          "base_uri": "https://localhost:8080/",
          "height": 374
        }
      },
      "source": [
        "diabetic[\"Cons_diag\"][:20]"
      ],
      "execution_count": 0,
      "outputs": [
        {
          "output_type": "execute_result",
          "data": {
            "text/plain": [
              "0     1\n",
              "1     1\n",
              "2     1\n",
              "3     1\n",
              "4     1\n",
              "5     1\n",
              "6     0\n",
              "7     1\n",
              "8     0\n",
              "9     0\n",
              "10    1\n",
              "11    0\n",
              "12    1\n",
              "13    0\n",
              "14    0\n",
              "15    0\n",
              "16    0\n",
              "17    1\n",
              "18    0\n",
              "19    0\n",
              "Name: Cons_diag, dtype: int64"
            ]
          },
          "metadata": {
            "tags": []
          },
          "execution_count": 38
        }
      ]
    },
    {
      "cell_type": "code",
      "metadata": {
        "id": "qK-dIA0qyGQC",
        "colab_type": "code",
        "outputId": "fc42bf37-ef02-4710-dc21-53b264bfb6fc",
        "colab": {
          "base_uri": "https://localhost:8080/",
          "height": 68
        }
      },
      "source": [
        "diabetic[\"Cons_diag\"].value_counts()"
      ],
      "execution_count": 0,
      "outputs": [
        {
          "output_type": "execute_result",
          "data": {
            "text/plain": [
              "0    42806\n",
              "1    27635\n",
              "Name: Cons_diag, dtype: int64"
            ]
          },
          "metadata": {
            "tags": []
          },
          "execution_count": 39
        }
      ]
    },
    {
      "cell_type": "markdown",
      "metadata": {
        "id": "IT2iFwuTzFQq",
        "colab_type": "text"
      },
      "source": [
        "Now we can drop the colums: \"diag_1\", \"diag_2\" and \"diag_3\""
      ]
    },
    {
      "cell_type": "code",
      "metadata": {
        "id": "AnhKq_njzNd6",
        "colab_type": "code",
        "colab": {}
      },
      "source": [
        "diabetic = diabetic.drop(\"diag_1\",axis=1)\n",
        "diabetic = diabetic.drop(\"diag_2\",axis=1)\n",
        "diabetic = diabetic.drop(\"diag_3\",axis=1)"
      ],
      "execution_count": 0,
      "outputs": []
    },
    {
      "cell_type": "code",
      "metadata": {
        "id": "X8s5FS6nzkSt",
        "colab_type": "code",
        "outputId": "9fba90e9-1d10-4d70-d0aa-3bc7b2cb80ac",
        "colab": {
          "base_uri": "https://localhost:8080/",
          "height": 867
        }
      },
      "source": [
        "diabetic.info()"
      ],
      "execution_count": 0,
      "outputs": [
        {
          "output_type": "stream",
          "text": [
            "<class 'pandas.core.frame.DataFrame'>\n",
            "Int64Index: 70441 entries, 0 to 101765\n",
            "Data columns (total 45 columns):\n",
            "encounter_id                70441 non-null int64\n",
            "patient_nbr                 70441 non-null int64\n",
            "race                        70441 non-null object\n",
            "gender                      70441 non-null object\n",
            "age                         70441 non-null object\n",
            "admission_type_id           70441 non-null int64\n",
            "discharge_disposition_id    70441 non-null int64\n",
            "admission_source_id         70441 non-null int64\n",
            "time_in_hospital            70441 non-null int64\n",
            "num_lab_procedures          70441 non-null int64\n",
            "num_procedures              70441 non-null int64\n",
            "num_medications             70441 non-null int64\n",
            "number_outpatient           70441 non-null int64\n",
            "number_emergency            70441 non-null int64\n",
            "number_inpatient            70441 non-null int64\n",
            "number_diagnoses            70441 non-null int64\n",
            "max_glu_serum               70441 non-null object\n",
            "A1Cresult                   70441 non-null object\n",
            "metformin                   70441 non-null object\n",
            "repaglinide                 70441 non-null object\n",
            "nateglinide                 70441 non-null object\n",
            "chlorpropamide              70441 non-null object\n",
            "glimepiride                 70441 non-null object\n",
            "acetohexamide               70441 non-null object\n",
            "glipizide                   70441 non-null object\n",
            "glyburide                   70441 non-null object\n",
            "tolbutamide                 70441 non-null object\n",
            "pioglitazone                70441 non-null object\n",
            "rosiglitazone               70441 non-null object\n",
            "acarbose                    70441 non-null object\n",
            "miglitol                    70441 non-null object\n",
            "troglitazone                70441 non-null object\n",
            "tolazamide                  70441 non-null object\n",
            "examide                     70441 non-null object\n",
            "citoglipton                 70441 non-null object\n",
            "insulin                     70441 non-null object\n",
            "glyburide-metformin         70441 non-null object\n",
            "glipizide-metformin         70441 non-null object\n",
            "glimepiride-pioglitazone    70441 non-null object\n",
            "metformin-rosiglitazone     70441 non-null object\n",
            "metformin-pioglitazone      70441 non-null object\n",
            "change                      70441 non-null object\n",
            "diabetesMed                 70441 non-null object\n",
            "readmitted                  70441 non-null object\n",
            "Cons_diag                   70441 non-null int64\n",
            "dtypes: int64(14), object(31)\n",
            "memory usage: 24.7+ MB\n"
          ],
          "name": "stdout"
        }
      ]
    },
    {
      "cell_type": "markdown",
      "metadata": {
        "id": "sxpHQjYclcvd",
        "colab_type": "text"
      },
      "source": [
        "Similarly, we replace column \"readmitted\" with a new int64 column. \n",
        "\n",
        "Value \"1\" means readmitted, \"0\" means not readmitted."
      ]
    },
    {
      "cell_type": "code",
      "metadata": {
        "id": "Ec2-10ulz8Ll",
        "colab_type": "code",
        "colab": {}
      },
      "source": [
        "diabetic[\"re_ad\"] = 0"
      ],
      "execution_count": 0,
      "outputs": []
    },
    {
      "cell_type": "code",
      "metadata": {
        "id": "0nFwW46f0iwL",
        "colab_type": "code",
        "outputId": "dbc367c9-57c7-4ac2-9a21-e9da70a14e7f",
        "colab": {
          "base_uri": "https://localhost:8080/",
          "height": 102
        }
      },
      "source": [
        "diabetic[\"re_ad\"][diabetic.readmitted==\"Yes\"] = 1\n"
      ],
      "execution_count": 0,
      "outputs": [
        {
          "output_type": "stream",
          "text": [
            "/usr/local/lib/python3.6/dist-packages/ipykernel_launcher.py:1: SettingWithCopyWarning: \n",
            "A value is trying to be set on a copy of a slice from a DataFrame\n",
            "\n",
            "See the caveats in the documentation: http://pandas.pydata.org/pandas-docs/stable/user_guide/indexing.html#returning-a-view-versus-a-copy\n",
            "  \"\"\"Entry point for launching an IPython kernel.\n"
          ],
          "name": "stderr"
        }
      ]
    },
    {
      "cell_type": "code",
      "metadata": {
        "id": "60GBUHpy01at",
        "colab_type": "code",
        "outputId": "61c30b36-e426-4df5-b080-f07aba5594a0",
        "colab": {
          "base_uri": "https://localhost:8080/",
          "height": 289
        }
      },
      "source": [
        "diabetic[\"re_ad\"][:15]"
      ],
      "execution_count": 0,
      "outputs": [
        {
          "output_type": "execute_result",
          "data": {
            "text/plain": [
              "0     0\n",
              "1     0\n",
              "2     0\n",
              "3     0\n",
              "4     0\n",
              "5     0\n",
              "6     0\n",
              "7     0\n",
              "8     0\n",
              "9     0\n",
              "10    0\n",
              "11    1\n",
              "12    1\n",
              "13    0\n",
              "14    0\n",
              "Name: re_ad, dtype: int64"
            ]
          },
          "metadata": {
            "tags": []
          },
          "execution_count": 44
        }
      ]
    },
    {
      "cell_type": "code",
      "metadata": {
        "id": "7HYd3EpM06f8",
        "colab_type": "code",
        "outputId": "a2678b2e-f458-46df-8b31-4fa5d1fc78dd",
        "colab": {
          "base_uri": "https://localhost:8080/",
          "height": 289
        }
      },
      "source": [
        "diabetic[\"readmitted\"][:15]"
      ],
      "execution_count": 0,
      "outputs": [
        {
          "output_type": "execute_result",
          "data": {
            "text/plain": [
              "0      NO\n",
              "1      No\n",
              "2      NO\n",
              "3      NO\n",
              "4      NO\n",
              "5      No\n",
              "6      NO\n",
              "7      No\n",
              "8      NO\n",
              "9      NO\n",
              "10     No\n",
              "11    Yes\n",
              "12    Yes\n",
              "13     NO\n",
              "14     No\n",
              "Name: readmitted, dtype: object"
            ]
          },
          "metadata": {
            "tags": []
          },
          "execution_count": 45
        }
      ]
    },
    {
      "cell_type": "markdown",
      "metadata": {
        "id": "rv9WQwLQ0-dl",
        "colab_type": "text"
      },
      "source": [
        "Then, drop the column \"readmitted\"."
      ]
    },
    {
      "cell_type": "code",
      "metadata": {
        "id": "wxsVBNNu1DGL",
        "colab_type": "code",
        "colab": {}
      },
      "source": [
        "diabetic = diabetic.drop(\"readmitted\",axis=1)"
      ],
      "execution_count": 0,
      "outputs": []
    },
    {
      "cell_type": "code",
      "metadata": {
        "id": "CarTbd_K1N5M",
        "colab_type": "code",
        "outputId": "55fa5088-de88-404b-aa23-3dff4398909b",
        "colab": {
          "base_uri": "https://localhost:8080/",
          "height": 867
        }
      },
      "source": [
        "diabetic.info()"
      ],
      "execution_count": 0,
      "outputs": [
        {
          "output_type": "stream",
          "text": [
            "<class 'pandas.core.frame.DataFrame'>\n",
            "Int64Index: 70441 entries, 0 to 101765\n",
            "Data columns (total 45 columns):\n",
            "encounter_id                70441 non-null int64\n",
            "patient_nbr                 70441 non-null int64\n",
            "race                        70441 non-null object\n",
            "gender                      70441 non-null object\n",
            "age                         70441 non-null object\n",
            "admission_type_id           70441 non-null int64\n",
            "discharge_disposition_id    70441 non-null int64\n",
            "admission_source_id         70441 non-null int64\n",
            "time_in_hospital            70441 non-null int64\n",
            "num_lab_procedures          70441 non-null int64\n",
            "num_procedures              70441 non-null int64\n",
            "num_medications             70441 non-null int64\n",
            "number_outpatient           70441 non-null int64\n",
            "number_emergency            70441 non-null int64\n",
            "number_inpatient            70441 non-null int64\n",
            "number_diagnoses            70441 non-null int64\n",
            "max_glu_serum               70441 non-null object\n",
            "A1Cresult                   70441 non-null object\n",
            "metformin                   70441 non-null object\n",
            "repaglinide                 70441 non-null object\n",
            "nateglinide                 70441 non-null object\n",
            "chlorpropamide              70441 non-null object\n",
            "glimepiride                 70441 non-null object\n",
            "acetohexamide               70441 non-null object\n",
            "glipizide                   70441 non-null object\n",
            "glyburide                   70441 non-null object\n",
            "tolbutamide                 70441 non-null object\n",
            "pioglitazone                70441 non-null object\n",
            "rosiglitazone               70441 non-null object\n",
            "acarbose                    70441 non-null object\n",
            "miglitol                    70441 non-null object\n",
            "troglitazone                70441 non-null object\n",
            "tolazamide                  70441 non-null object\n",
            "examide                     70441 non-null object\n",
            "citoglipton                 70441 non-null object\n",
            "insulin                     70441 non-null object\n",
            "glyburide-metformin         70441 non-null object\n",
            "glipizide-metformin         70441 non-null object\n",
            "glimepiride-pioglitazone    70441 non-null object\n",
            "metformin-rosiglitazone     70441 non-null object\n",
            "metformin-pioglitazone      70441 non-null object\n",
            "change                      70441 non-null object\n",
            "diabetesMed                 70441 non-null object\n",
            "Cons_diag                   70441 non-null int64\n",
            "re_ad                       70441 non-null int64\n",
            "dtypes: int64(15), object(30)\n",
            "memory usage: 24.7+ MB\n"
          ],
          "name": "stdout"
        }
      ]
    },
    {
      "cell_type": "markdown",
      "metadata": {
        "id": "BVYWQhs6BZ_K",
        "colab_type": "text"
      },
      "source": [
        "Consider HbA1c might be highly related to the diagnoses for diabetes, here A1Cresult is transformed into numeric values.\n",
        "\n",
        "1.   \"None\"   => 0\n",
        "2.   \"Norm\"   => 1\n",
        "3.   \">7\"     => 2\n",
        "4.   \">8\"     => 3\n",
        "\n"
      ]
    },
    {
      "cell_type": "code",
      "metadata": {
        "id": "d7OI-jHyCC8I",
        "colab_type": "code",
        "outputId": "dbc7c336-0152-4022-bfdb-1ef605e1de49",
        "colab": {
          "base_uri": "https://localhost:8080/",
          "height": 272
        }
      },
      "source": [
        "diabetic[\"HbA1c\"] = 0\n",
        "diabetic[\"HbA1c\"][diabetic.A1Cresult==\"Norm\"] = 1\n",
        "diabetic[\"HbA1c\"][diabetic.A1Cresult==\">7\"] = 2\n",
        "diabetic[\"HbA1c\"][diabetic.A1Cresult==\">8\"] = 3"
      ],
      "execution_count": 0,
      "outputs": [
        {
          "output_type": "stream",
          "text": [
            "/usr/local/lib/python3.6/dist-packages/ipykernel_launcher.py:2: SettingWithCopyWarning: \n",
            "A value is trying to be set on a copy of a slice from a DataFrame\n",
            "\n",
            "See the caveats in the documentation: http://pandas.pydata.org/pandas-docs/stable/user_guide/indexing.html#returning-a-view-versus-a-copy\n",
            "  \n",
            "/usr/local/lib/python3.6/dist-packages/ipykernel_launcher.py:3: SettingWithCopyWarning: \n",
            "A value is trying to be set on a copy of a slice from a DataFrame\n",
            "\n",
            "See the caveats in the documentation: http://pandas.pydata.org/pandas-docs/stable/user_guide/indexing.html#returning-a-view-versus-a-copy\n",
            "  This is separate from the ipykernel package so we can avoid doing imports until\n",
            "/usr/local/lib/python3.6/dist-packages/ipykernel_launcher.py:4: SettingWithCopyWarning: \n",
            "A value is trying to be set on a copy of a slice from a DataFrame\n",
            "\n",
            "See the caveats in the documentation: http://pandas.pydata.org/pandas-docs/stable/user_guide/indexing.html#returning-a-view-versus-a-copy\n",
            "  after removing the cwd from sys.path.\n"
          ],
          "name": "stderr"
        }
      ]
    },
    {
      "cell_type": "code",
      "metadata": {
        "id": "2ewoKgVRDa14",
        "colab_type": "code",
        "outputId": "62ec9788-4584-437b-da22-934ea2ef1b65",
        "colab": {
          "base_uri": "https://localhost:8080/",
          "height": 544
        }
      },
      "source": [
        "diabetic[\"A1Cresult\"][70:100]"
      ],
      "execution_count": 0,
      "outputs": [
        {
          "output_type": "execute_result",
          "data": {
            "text/plain": [
              "73     None\n",
              "74       >7\n",
              "75     None\n",
              "76     None\n",
              "77     None\n",
              "80     None\n",
              "82     None\n",
              "83     None\n",
              "84     None\n",
              "85     None\n",
              "86     None\n",
              "87     None\n",
              "88     None\n",
              "89     None\n",
              "90     None\n",
              "91     None\n",
              "92     None\n",
              "93     None\n",
              "94     None\n",
              "95     None\n",
              "96     None\n",
              "97     None\n",
              "98       >8\n",
              "99     None\n",
              "102    None\n",
              "103    Norm\n",
              "104    None\n",
              "105    None\n",
              "106    None\n",
              "107    Norm\n",
              "Name: A1Cresult, dtype: object"
            ]
          },
          "metadata": {
            "tags": []
          },
          "execution_count": 49
        }
      ]
    },
    {
      "cell_type": "code",
      "metadata": {
        "id": "iSlnQ1tNDjtl",
        "colab_type": "code",
        "outputId": "6bdc008a-ef69-4229-91d0-b3dbc17cf0f7",
        "colab": {
          "base_uri": "https://localhost:8080/",
          "height": 544
        }
      },
      "source": [
        "diabetic[\"HbA1c\"][70:100]"
      ],
      "execution_count": 0,
      "outputs": [
        {
          "output_type": "execute_result",
          "data": {
            "text/plain": [
              "73     0\n",
              "74     2\n",
              "75     0\n",
              "76     0\n",
              "77     0\n",
              "80     0\n",
              "82     0\n",
              "83     0\n",
              "84     0\n",
              "85     0\n",
              "86     0\n",
              "87     0\n",
              "88     0\n",
              "89     0\n",
              "90     0\n",
              "91     0\n",
              "92     0\n",
              "93     0\n",
              "94     0\n",
              "95     0\n",
              "96     0\n",
              "97     0\n",
              "98     3\n",
              "99     0\n",
              "102    0\n",
              "103    1\n",
              "104    0\n",
              "105    0\n",
              "106    0\n",
              "107    1\n",
              "Name: HbA1c, dtype: int64"
            ]
          },
          "metadata": {
            "tags": []
          },
          "execution_count": 50
        }
      ]
    },
    {
      "cell_type": "markdown",
      "metadata": {
        "id": "v_rFrDW_P1KT",
        "colab_type": "text"
      },
      "source": [
        "Good, data validated, now we drop the column \"A1Cresult\"."
      ]
    },
    {
      "cell_type": "code",
      "metadata": {
        "id": "i6YjDWx7P_AI",
        "colab_type": "code",
        "colab": {}
      },
      "source": [
        "diabetic = diabetic.drop(\"A1Cresult\",axis=1)"
      ],
      "execution_count": 0,
      "outputs": []
    },
    {
      "cell_type": "markdown",
      "metadata": {
        "id": "8PuNlWrTapcL",
        "colab_type": "text"
      },
      "source": [
        "# Data Preparation"
      ]
    },
    {
      "cell_type": "code",
      "metadata": {
        "id": "7XCtSFYcy2iY",
        "colab_type": "code",
        "colab": {}
      },
      "source": [
        "# For illustration only. Sklearn has train_test_split()\n",
        "def split_train_test(data, test_ratio):\n",
        "    shuffled_indices = np.random.permutation(len(data))\n",
        "    test_set_size = int(len(data) * test_ratio)\n",
        "    test_indices = shuffled_indices[:test_set_size]\n",
        "    train_indices = shuffled_indices[test_set_size:]\n",
        "    return data.iloc[train_indices], data.iloc[test_indices]"
      ],
      "execution_count": 0,
      "outputs": []
    },
    {
      "cell_type": "code",
      "metadata": {
        "id": "29mmeTZ9y44R",
        "colab_type": "code",
        "outputId": "b961a971-30e9-448b-cf12-e14ee8ee0767",
        "colab": {
          "base_uri": "https://localhost:8080/",
          "height": 34
        }
      },
      "source": [
        "train_set, test_set = split_train_test(diabetic, 0.2)\n",
        "len(train_set)"
      ],
      "execution_count": 0,
      "outputs": [
        {
          "output_type": "execute_result",
          "data": {
            "text/plain": [
              "56353"
            ]
          },
          "metadata": {
            "tags": []
          },
          "execution_count": 53
        }
      ]
    },
    {
      "cell_type": "code",
      "metadata": {
        "id": "mnfmr97EOQqA",
        "colab_type": "code",
        "outputId": "4f1ef3c5-ebc7-45cd-ed5d-2a2a648807cb",
        "colab": {
          "base_uri": "https://localhost:8080/",
          "height": 34
        }
      },
      "source": [
        "len(test_set)"
      ],
      "execution_count": 0,
      "outputs": [
        {
          "output_type": "execute_result",
          "data": {
            "text/plain": [
              "14088"
            ]
          },
          "metadata": {
            "tags": []
          },
          "execution_count": 54
        }
      ]
    },
    {
      "cell_type": "markdown",
      "metadata": {
        "id": "xF2EEJwTzHIc",
        "colab_type": "text"
      },
      "source": [
        "Here we did not use 'train_test_split' from sklearn because, two columns were unreasonably missing after this build-in function called."
      ]
    },
    {
      "cell_type": "code",
      "metadata": {
        "id": "ZWgtEU3Xy-cR",
        "colab_type": "code",
        "outputId": "f626eb17-cd45-4620-ad5c-349da0c842de",
        "colab": {
          "base_uri": "https://localhost:8080/",
          "height": 867
        }
      },
      "source": [
        "train_set.info()"
      ],
      "execution_count": 0,
      "outputs": [
        {
          "output_type": "stream",
          "text": [
            "<class 'pandas.core.frame.DataFrame'>\n",
            "Int64Index: 56353 entries, 36563 to 21161\n",
            "Data columns (total 45 columns):\n",
            "encounter_id                56353 non-null int64\n",
            "patient_nbr                 56353 non-null int64\n",
            "race                        56353 non-null object\n",
            "gender                      56353 non-null object\n",
            "age                         56353 non-null object\n",
            "admission_type_id           56353 non-null int64\n",
            "discharge_disposition_id    56353 non-null int64\n",
            "admission_source_id         56353 non-null int64\n",
            "time_in_hospital            56353 non-null int64\n",
            "num_lab_procedures          56353 non-null int64\n",
            "num_procedures              56353 non-null int64\n",
            "num_medications             56353 non-null int64\n",
            "number_outpatient           56353 non-null int64\n",
            "number_emergency            56353 non-null int64\n",
            "number_inpatient            56353 non-null int64\n",
            "number_diagnoses            56353 non-null int64\n",
            "max_glu_serum               56353 non-null object\n",
            "metformin                   56353 non-null object\n",
            "repaglinide                 56353 non-null object\n",
            "nateglinide                 56353 non-null object\n",
            "chlorpropamide              56353 non-null object\n",
            "glimepiride                 56353 non-null object\n",
            "acetohexamide               56353 non-null object\n",
            "glipizide                   56353 non-null object\n",
            "glyburide                   56353 non-null object\n",
            "tolbutamide                 56353 non-null object\n",
            "pioglitazone                56353 non-null object\n",
            "rosiglitazone               56353 non-null object\n",
            "acarbose                    56353 non-null object\n",
            "miglitol                    56353 non-null object\n",
            "troglitazone                56353 non-null object\n",
            "tolazamide                  56353 non-null object\n",
            "examide                     56353 non-null object\n",
            "citoglipton                 56353 non-null object\n",
            "insulin                     56353 non-null object\n",
            "glyburide-metformin         56353 non-null object\n",
            "glipizide-metformin         56353 non-null object\n",
            "glimepiride-pioglitazone    56353 non-null object\n",
            "metformin-rosiglitazone     56353 non-null object\n",
            "metformin-pioglitazone      56353 non-null object\n",
            "change                      56353 non-null object\n",
            "diabetesMed                 56353 non-null object\n",
            "Cons_diag                   56353 non-null int64\n",
            "re_ad                       56353 non-null int64\n",
            "HbA1c                       56353 non-null int64\n",
            "dtypes: int64(16), object(29)\n",
            "memory usage: 19.8+ MB\n"
          ],
          "name": "stdout"
        }
      ]
    },
    {
      "cell_type": "markdown",
      "metadata": {
        "id": "sDYjAtMnzZRH",
        "colab_type": "text"
      },
      "source": [
        "Still have 45 columns, good."
      ]
    },
    {
      "cell_type": "markdown",
      "metadata": {
        "id": "5dqLydRSaH1E",
        "colab_type": "text"
      },
      "source": [
        "Take a further look into the database, there are 16 columns that are numeric. Let's take them out."
      ]
    },
    {
      "cell_type": "code",
      "metadata": {
        "id": "NYYSDxiAadxD",
        "colab_type": "code",
        "colab": {}
      },
      "source": [
        "diabetic_num = train_set.drop(['race','gender','age', \n",
        "                              'max_glu_serum', 'metformin', 'repaglinide', 'nateglinide',\n",
        "                              'chlorpropamide','glimepiride','acetohexamide','glipizide',\n",
        "                              'glyburide','tolbutamide','pioglitazone','rosiglitazone','acarbose',\n",
        "                              'miglitol','troglitazone','tolazamide','examide','citoglipton',\n",
        "                              'insulin','glyburide-metformin','glipizide-metformin',\n",
        "                              'glimepiride-pioglitazone','metformin-rosiglitazone',\n",
        "                              'metformin-pioglitazone','change','diabetesMed'],axis=1)"
      ],
      "execution_count": 0,
      "outputs": []
    },
    {
      "cell_type": "code",
      "metadata": {
        "id": "LQhvOMhIdOMB",
        "colab_type": "code",
        "outputId": "076f89d2-ff6b-494f-f3e1-d485826b3b41",
        "colab": {
          "base_uri": "https://localhost:8080/",
          "height": 374
        }
      },
      "source": [
        "diabetic_num.info()"
      ],
      "execution_count": 0,
      "outputs": [
        {
          "output_type": "stream",
          "text": [
            "<class 'pandas.core.frame.DataFrame'>\n",
            "Int64Index: 56353 entries, 36563 to 21161\n",
            "Data columns (total 16 columns):\n",
            "encounter_id                56353 non-null int64\n",
            "patient_nbr                 56353 non-null int64\n",
            "admission_type_id           56353 non-null int64\n",
            "discharge_disposition_id    56353 non-null int64\n",
            "admission_source_id         56353 non-null int64\n",
            "time_in_hospital            56353 non-null int64\n",
            "num_lab_procedures          56353 non-null int64\n",
            "num_procedures              56353 non-null int64\n",
            "num_medications             56353 non-null int64\n",
            "number_outpatient           56353 non-null int64\n",
            "number_emergency            56353 non-null int64\n",
            "number_inpatient            56353 non-null int64\n",
            "number_diagnoses            56353 non-null int64\n",
            "Cons_diag                   56353 non-null int64\n",
            "re_ad                       56353 non-null int64\n",
            "HbA1c                       56353 non-null int64\n",
            "dtypes: int64(16)\n",
            "memory usage: 7.3 MB\n"
          ],
          "name": "stdout"
        }
      ]
    },
    {
      "cell_type": "code",
      "metadata": {
        "id": "B9lUIGGOk1wH",
        "colab_type": "code",
        "outputId": "c8b6e95e-ec61-4640-db21-378e7b9a37e3",
        "colab": {
          "base_uri": "https://localhost:8080/",
          "height": 306
        }
      },
      "source": [
        "corr_matrix = diabetic_num.corr()\n",
        "corr_matrix[\"Cons_diag\"].sort_values(ascending=False)"
      ],
      "execution_count": 0,
      "outputs": [
        {
          "output_type": "execute_result",
          "data": {
            "text/plain": [
              "Cons_diag                   1.000000\n",
              "HbA1c                       0.122487\n",
              "admission_type_id           0.027587\n",
              "number_emergency            0.007634\n",
              "re_ad                      -0.008505\n",
              "admission_source_id        -0.021116\n",
              "number_inpatient           -0.023964\n",
              "discharge_disposition_id   -0.025603\n",
              "number_outpatient          -0.027760\n",
              "num_lab_procedures         -0.068278\n",
              "num_procedures             -0.093211\n",
              "patient_nbr                -0.094782\n",
              "encounter_id               -0.105173\n",
              "time_in_hospital           -0.138743\n",
              "num_medications            -0.143921\n",
              "number_diagnoses           -0.417879\n",
              "Name: Cons_diag, dtype: float64"
            ]
          },
          "metadata": {
            "tags": []
          },
          "execution_count": 58
        }
      ]
    },
    {
      "cell_type": "markdown",
      "metadata": {
        "id": "3RCqcTu2JL2u",
        "colab_type": "text"
      },
      "source": [
        "From the numeric colums, the most corelated column to diagnosis of diabetes is 'number_diagnoses'."
      ]
    },
    {
      "cell_type": "code",
      "metadata": {
        "id": "EhpPKi-xT5Xl",
        "colab_type": "code",
        "outputId": "d1ac6917-adf4-4d2e-c33b-49bf78e17a5d",
        "colab": {
          "base_uri": "https://localhost:8080/",
          "height": 1000
        }
      },
      "source": [
        "# from pandas.tools.plotting import scatter_matrix # For older versions of Pandas\n",
        "from pandas.plotting import scatter_matrix\n",
        "\n",
        "attributes = [\"Cons_diag\", \"number_diagnoses\", \"num_medications\",\"time_in_hospital\",\"HbA1c\"]\n",
        "scatter_matrix(diabetic_num[attributes], figsize=(12, 8))\n",
        "save_fig(\"scatter_matrix_plot\")"
      ],
      "execution_count": 0,
      "outputs": [
        {
          "output_type": "stream",
          "text": [
            "/usr/local/lib/python3.6/dist-packages/pandas/plotting/_matplotlib/tools.py:307: MatplotlibDeprecationWarning: \n",
            "The rowNum attribute was deprecated in Matplotlib 3.2 and will be removed two minor releases later. Use ax.get_subplotspec().rowspan.start instead.\n",
            "  layout[ax.rowNum, ax.colNum] = ax.get_visible()\n",
            "/usr/local/lib/python3.6/dist-packages/pandas/plotting/_matplotlib/tools.py:307: MatplotlibDeprecationWarning: \n",
            "The colNum attribute was deprecated in Matplotlib 3.2 and will be removed two minor releases later. Use ax.get_subplotspec().colspan.start instead.\n",
            "  layout[ax.rowNum, ax.colNum] = ax.get_visible()\n",
            "/usr/local/lib/python3.6/dist-packages/pandas/plotting/_matplotlib/tools.py:313: MatplotlibDeprecationWarning: \n",
            "The rowNum attribute was deprecated in Matplotlib 3.2 and will be removed two minor releases later. Use ax.get_subplotspec().rowspan.start instead.\n",
            "  if not layout[ax.rowNum + 1, ax.colNum]:\n",
            "/usr/local/lib/python3.6/dist-packages/pandas/plotting/_matplotlib/tools.py:313: MatplotlibDeprecationWarning: \n",
            "The colNum attribute was deprecated in Matplotlib 3.2 and will be removed two minor releases later. Use ax.get_subplotspec().colspan.start instead.\n",
            "  if not layout[ax.rowNum + 1, ax.colNum]:\n"
          ],
          "name": "stderr"
        },
        {
          "output_type": "error",
          "ename": "NameError",
          "evalue": "ignored",
          "traceback": [
            "\u001b[0;31m---------------------------------------------------------------------------\u001b[0m",
            "\u001b[0;31mNameError\u001b[0m                                 Traceback (most recent call last)",
            "\u001b[0;32m<ipython-input-61-68ef698dd55d>\u001b[0m in \u001b[0;36m<module>\u001b[0;34m()\u001b[0m\n\u001b[1;32m      3\u001b[0m \u001b[0mattributes\u001b[0m \u001b[0;34m=\u001b[0m \u001b[0;34m[\u001b[0m\u001b[0;34m\"Cons_diag\"\u001b[0m\u001b[0;34m,\u001b[0m \u001b[0;34m\"number_diagnoses\"\u001b[0m\u001b[0;34m,\u001b[0m \u001b[0;34m\"num_medications\"\u001b[0m\u001b[0;34m,\u001b[0m\u001b[0;34m\"time_in_hospital\"\u001b[0m\u001b[0;34m,\u001b[0m\u001b[0;34m\"HbA1c\"\u001b[0m\u001b[0;34m]\u001b[0m\u001b[0;34m\u001b[0m\u001b[0;34m\u001b[0m\u001b[0m\n\u001b[1;32m      4\u001b[0m \u001b[0mscatter_matrix\u001b[0m\u001b[0;34m(\u001b[0m\u001b[0mdiabetic_num\u001b[0m\u001b[0;34m[\u001b[0m\u001b[0mattributes\u001b[0m\u001b[0;34m]\u001b[0m\u001b[0;34m,\u001b[0m \u001b[0mfigsize\u001b[0m\u001b[0;34m=\u001b[0m\u001b[0;34m(\u001b[0m\u001b[0;36m12\u001b[0m\u001b[0;34m,\u001b[0m \u001b[0;36m8\u001b[0m\u001b[0;34m)\u001b[0m\u001b[0;34m)\u001b[0m\u001b[0;34m\u001b[0m\u001b[0;34m\u001b[0m\u001b[0m\n\u001b[0;32m----> 5\u001b[0;31m \u001b[0msave_fig\u001b[0m\u001b[0;34m(\u001b[0m\u001b[0;34m\"scatter_matrix_plot\"\u001b[0m\u001b[0;34m)\u001b[0m\u001b[0;34m\u001b[0m\u001b[0;34m\u001b[0m\u001b[0m\n\u001b[0m",
            "\u001b[0;32m<ipython-input-12-3c3cd1966184>\u001b[0m in \u001b[0;36msave_fig\u001b[0;34m(fig_id, tight_layout, fig_extension, resolution)\u001b[0m\n\u001b[1;32m     21\u001b[0m \u001b[0;34m\u001b[0m\u001b[0m\n\u001b[1;32m     22\u001b[0m \u001b[0;32mdef\u001b[0m \u001b[0msave_fig\u001b[0m\u001b[0;34m(\u001b[0m\u001b[0mfig_id\u001b[0m\u001b[0;34m,\u001b[0m \u001b[0mtight_layout\u001b[0m\u001b[0;34m=\u001b[0m\u001b[0;32mTrue\u001b[0m\u001b[0;34m,\u001b[0m \u001b[0mfig_extension\u001b[0m\u001b[0;34m=\u001b[0m\u001b[0;34m\"png\"\u001b[0m\u001b[0;34m,\u001b[0m \u001b[0mresolution\u001b[0m\u001b[0;34m=\u001b[0m\u001b[0;36m300\u001b[0m\u001b[0;34m)\u001b[0m\u001b[0;34m:\u001b[0m\u001b[0;34m\u001b[0m\u001b[0;34m\u001b[0m\u001b[0m\n\u001b[0;32m---> 23\u001b[0;31m     \u001b[0mpath\u001b[0m \u001b[0;34m=\u001b[0m \u001b[0mos\u001b[0m\u001b[0;34m.\u001b[0m\u001b[0mpath\u001b[0m\u001b[0;34m.\u001b[0m\u001b[0mjoin\u001b[0m\u001b[0;34m(\u001b[0m\u001b[0mIMAGES_PATH\u001b[0m\u001b[0;34m,\u001b[0m \u001b[0mfig_id\u001b[0m \u001b[0;34m+\u001b[0m \u001b[0;34m\".\"\u001b[0m \u001b[0;34m+\u001b[0m \u001b[0mfig_extension\u001b[0m\u001b[0;34m)\u001b[0m\u001b[0;34m\u001b[0m\u001b[0;34m\u001b[0m\u001b[0m\n\u001b[0m\u001b[1;32m     24\u001b[0m     \u001b[0mprint\u001b[0m\u001b[0;34m(\u001b[0m\u001b[0;34m\"Saving figure\"\u001b[0m\u001b[0;34m,\u001b[0m \u001b[0mfig_id\u001b[0m\u001b[0;34m)\u001b[0m\u001b[0;34m\u001b[0m\u001b[0;34m\u001b[0m\u001b[0m\n\u001b[1;32m     25\u001b[0m     \u001b[0;32mif\u001b[0m \u001b[0mtight_layout\u001b[0m\u001b[0;34m:\u001b[0m\u001b[0;34m\u001b[0m\u001b[0;34m\u001b[0m\u001b[0m\n",
            "\u001b[0;31mNameError\u001b[0m: name 'IMAGES_PATH' is not defined"
          ]
        },
        {
          "output_type": "display_data",
          "data": {
            "image/png": "[encoded data removed]",
            "text/plain": [
              "<Figure size 864x576 with 25 Axes>"
            ]
          },
          "metadata": {
            "tags": []
          }
        }
      ]
    },
    {
      "cell_type": "code",
      "metadata": {
        "id": "R3gVqpva2e0C",
        "colab_type": "code",
        "outputId": "c96bf1f7-7037-4edb-8fe7-7555abda60ae",
        "colab": {
          "base_uri": "https://localhost:8080/",
          "height": 306
        }
      },
      "source": [
        "corr_matrix = diabetic_num.corr()\n",
        "corr_matrix[\"re_ad\"].sort_values(ascending=False)"
      ],
      "execution_count": 0,
      "outputs": [
        {
          "output_type": "execute_result",
          "data": {
            "text/plain": [
              "re_ad                       1.000000\n",
              "number_inpatient            0.102937\n",
              "discharge_disposition_id    0.064957\n",
              "time_in_hospital            0.054446\n",
              "number_diagnoses            0.042758\n",
              "num_medications             0.036680\n",
              "num_lab_procedures          0.029971\n",
              "number_emergency            0.027454\n",
              "number_outpatient           0.007629\n",
              "admission_source_id         0.005368\n",
              "patient_nbr                 0.004257\n",
              "num_procedures              0.002310\n",
              "admission_type_id           0.000013\n",
              "Cons_diag                  -0.008505\n",
              "HbA1c                      -0.009776\n",
              "encounter_id               -0.047151\n",
              "Name: re_ad, dtype: float64"
            ]
          },
          "metadata": {
            "tags": []
          },
          "execution_count": 63
        }
      ]
    },
    {
      "cell_type": "markdown",
      "metadata": {
        "id": "CMusuuCSJYNv",
        "colab_type": "text"
      },
      "source": [
        "From the numeric colums, it seems all these columns have very low corelations with 'readmitted'."
      ]
    },
    {
      "cell_type": "code",
      "metadata": {
        "id": "SJCT523WL8YC",
        "colab_type": "code",
        "colab": {}
      },
      "source": [
        "diabetic_train = train_set.drop(\"Cons_diag\", axis=1) # drop labels for training set\n",
        "diabetic_train = diabetic_train.drop(\"re_ad\", axis=1)\n",
        "dia_labels_diag = train_set[\"Cons_diag\"].copy()\n",
        "dia_labels_read = train_set[\"re_ad\"].copy()"
      ],
      "execution_count": 0,
      "outputs": []
    },
    {
      "cell_type": "markdown",
      "metadata": {
        "id": "co7tPmUWhp1R",
        "colab_type": "text"
      },
      "source": [
        "Now let's build a pipeline for preprocessing the numerical attributes with scaling:"
      ]
    },
    {
      "cell_type": "code",
      "metadata": {
        "id": "JkHW5_5ohtkI",
        "colab_type": "code",
        "colab": {}
      },
      "source": [
        "from sklearn.pipeline import Pipeline\n",
        "from sklearn.preprocessing import StandardScaler\n",
        "\n",
        "num_pipeline = Pipeline([('std_scaler', StandardScaler())])\n",
        "\n",
        "diabetic_tr = num_pipeline.fit_transform(diabetic_num)"
      ],
      "execution_count": 0,
      "outputs": []
    },
    {
      "cell_type": "code",
      "metadata": {
        "id": "p2O_3HCbiAcX",
        "colab_type": "code",
        "outputId": "380c2fb8-d2e2-448d-f629-a6efe8bc8c80",
        "colab": {
          "base_uri": "https://localhost:8080/",
          "height": 238
        }
      },
      "source": [
        "diabetic_tr"
      ],
      "execution_count": 0,
      "outputs": [
        {
          "output_type": "execute_result",
          "data": {
            "text/plain": [
              "array([[-0.44167186,  0.74301342, -0.73174058, ...,  1.24629849,\n",
              "         3.20091536,  2.81240975],\n",
              "       [-0.94669309, -0.9783004 , -0.06767563, ...,  1.24629849,\n",
              "        -0.31241064,  2.81240975],\n",
              "       [-0.47466256,  1.25738643, -0.73174058, ..., -0.802376  ,\n",
              "        -0.31241064, -0.43380394],\n",
              "       ...,\n",
              "       [ 0.73947577, -1.34344443, -0.06767563, ..., -0.802376  ,\n",
              "        -0.31241064, -0.43380394],\n",
              "       [-1.49134838, -1.13924841,  2.58858414, ..., -0.802376  ,\n",
              "        -0.31241064, -0.43380394],\n",
              "       [-0.8256232 , -0.87191168,  0.59638931, ..., -0.802376  ,\n",
              "        -0.31241064, -0.43380394]])"
            ]
          },
          "metadata": {
            "tags": []
          },
          "execution_count": 66
        }
      ]
    },
    {
      "cell_type": "markdown",
      "metadata": {
        "id": "ioTc5_3bTzAa",
        "colab_type": "text"
      },
      "source": [
        "Next we'll deal with categorical columns."
      ]
    },
    {
      "cell_type": "code",
      "metadata": {
        "id": "DDfKrrIGhgzz",
        "colab_type": "code",
        "colab": {}
      },
      "source": [
        "from sklearn.preprocessing import OneHotEncoder\n",
        "\n",
        "cat_encoder = OneHotEncoder()"
      ],
      "execution_count": 0,
      "outputs": []
    },
    {
      "cell_type": "code",
      "metadata": {
        "id": "D2vJUZeciJIz",
        "colab_type": "code",
        "colab": {}
      },
      "source": [
        "from sklearn.compose import ColumnTransformer\n",
        "\n",
        "num_attribs = list(diabetic_num)\n",
        "cat_attribs = ['race','gender','age',\n",
        "                              'max_glu_serum','metformin','repaglinide','nateglinide',\n",
        "                              'chlorpropamide','glimepiride','acetohexamide','glipizide',\n",
        "                              'glyburide','tolbutamide','pioglitazone','rosiglitazone','acarbose',\n",
        "                              'miglitol','troglitazone','tolazamide','examide','citoglipton',\n",
        "                              'insulin','glyburide-metformin','glipizide-metformin',\n",
        "                              'glimepiride-pioglitazone','metformin-rosiglitazone',\n",
        "                              'metformin-pioglitazone','change','diabetesMed']\n",
        "\n",
        "full_pipeline = ColumnTransformer([\n",
        "        (\"num\", num_pipeline, num_attribs),\n",
        "        (\"cat\", OneHotEncoder(), cat_attribs),\n",
        "    ])\n",
        "\n",
        "dia_prepared = full_pipeline.fit_transform(train_set)"
      ],
      "execution_count": 0,
      "outputs": []
    },
    {
      "cell_type": "code",
      "metadata": {
        "id": "wxSVZz20ikXe",
        "colab_type": "code",
        "outputId": "5af4878f-86af-43ab-f5df-141df1cecceb",
        "colab": {
          "base_uri": "https://localhost:8080/",
          "height": 34
        }
      },
      "source": [
        "dia_prepared.shape"
      ],
      "execution_count": 0,
      "outputs": [
        {
          "output_type": "execute_result",
          "data": {
            "text/plain": [
              "(56353, 110)"
            ]
          },
          "metadata": {
            "tags": []
          },
          "execution_count": 69
        }
      ]
    },
    {
      "cell_type": "markdown",
      "metadata": {
        "id": "BJ0htNXRKsdO",
        "colab_type": "text"
      },
      "source": [
        "Since all the data has transformed into 2D float array, we are unable to run correlation matrix to seek the most correlated attributes among non-numeric columns."
      ]
    },
    {
      "cell_type": "markdown",
      "metadata": {
        "id": "S78VaY274qM0",
        "colab_type": "text"
      },
      "source": [
        "Now let's do the same on the test data set."
      ]
    },
    {
      "cell_type": "code",
      "metadata": {
        "id": "x6FY53hE43MD",
        "colab_type": "code",
        "colab": {}
      },
      "source": [
        "test_num = test_set.drop(['race','gender','age', \n",
        "                              'max_glu_serum', 'metformin', 'repaglinide', 'nateglinide',\n",
        "                              'chlorpropamide','glimepiride','acetohexamide','glipizide',\n",
        "                              'glyburide','tolbutamide','pioglitazone','rosiglitazone','acarbose',\n",
        "                              'miglitol','troglitazone','tolazamide','examide','citoglipton',\n",
        "                              'insulin','glyburide-metformin','glipizide-metformin',\n",
        "                              'glimepiride-pioglitazone','metformin-rosiglitazone',\n",
        "                              'metformin-pioglitazone','change','diabetesMed'],axis=1)"
      ],
      "execution_count": 0,
      "outputs": []
    },
    {
      "cell_type": "code",
      "metadata": {
        "id": "NeHvDjXO4uLF",
        "colab_type": "code",
        "colab": {}
      },
      "source": [
        "test_labels_diag = test_set[\"Cons_diag\"].copy()\n",
        "test_labels_read = test_set[\"re_ad\"].copy()\n",
        "diabetic_test = test_set.drop(\"Cons_diag\", axis=1) # drop labels for testing set\n",
        "diabetic_test = diabetic_test.drop(\"re_ad\", axis=1)"
      ],
      "execution_count": 0,
      "outputs": []
    },
    {
      "cell_type": "code",
      "metadata": {
        "id": "_Jc3pdoz5Taw",
        "colab_type": "code",
        "colab": {}
      },
      "source": [
        "test_tr = num_pipeline.fit_transform(test_num)"
      ],
      "execution_count": 0,
      "outputs": []
    },
    {
      "cell_type": "code",
      "metadata": {
        "id": "CGyqnNQn5s4y",
        "colab_type": "code",
        "colab": {}
      },
      "source": [
        "num_attribs = list(test_num)\n",
        "cat_attribs = ['race','gender','age',\n",
        "                              'max_glu_serum','metformin','repaglinide','nateglinide',\n",
        "                              'chlorpropamide','glimepiride','acetohexamide','glipizide',\n",
        "                              'glyburide','tolbutamide','pioglitazone','rosiglitazone','acarbose',\n",
        "                              'miglitol','troglitazone','tolazamide','examide','citoglipton',\n",
        "                              'insulin','glyburide-metformin','glipizide-metformin',\n",
        "                              'glimepiride-pioglitazone','metformin-rosiglitazone',\n",
        "                              'metformin-pioglitazone','change','diabetesMed']\n",
        "\n",
        "full_pipeline = ColumnTransformer([\n",
        "        (\"num\", num_pipeline, num_attribs),\n",
        "        (\"cat\", OneHotEncoder(), cat_attribs),\n",
        "    ])"
      ],
      "execution_count": 0,
      "outputs": []
    },
    {
      "cell_type": "code",
      "metadata": {
        "id": "fcP9z1fR5Zcd",
        "colab_type": "code",
        "colab": {}
      },
      "source": [
        "test_prepared = full_pipeline.fit_transform(test_set)"
      ],
      "execution_count": 0,
      "outputs": []
    },
    {
      "cell_type": "code",
      "metadata": {
        "id": "COnZ_hrT5eSB",
        "colab_type": "code",
        "outputId": "a247771e-6527-49b4-f15c-f0b41ea22c93",
        "colab": {
          "base_uri": "https://localhost:8080/",
          "height": 34
        }
      },
      "source": [
        "test_prepared.shape"
      ],
      "execution_count": 0,
      "outputs": [
        {
          "output_type": "execute_result",
          "data": {
            "text/plain": [
              "(14088, 100)"
            ]
          },
          "metadata": {
            "tags": []
          },
          "execution_count": 75
        }
      ]
    },
    {
      "cell_type": "markdown",
      "metadata": {
        "id": "DQgljsUe7qUf",
        "colab_type": "text"
      },
      "source": [
        "It is probably the variance of data value of the training set and the testing set causing the difference of column number after transforming all the non-numeric data into numeric data.\n"
      ]
    },
    {
      "cell_type": "markdown",
      "metadata": {
        "id": "tzWmA19VUBJJ",
        "colab_type": "text"
      },
      "source": [
        "We'll manually transform columns \"race\", \"age\", \"max_glu_serum\", \"gender\",\"change\", \"diabetesMed\" into numeric data."
      ]
    },
    {
      "cell_type": "markdown",
      "metadata": {
        "id": "v0dvRC7aaCg1",
        "colab_type": "text"
      },
      "source": [
        "Race is transformed into numeric values.\n",
        "\n",
        "1.   \"Other\"               => 0\n",
        "2.   \"Caucasian\"           => 1\n",
        "3.   \"AfricanAmerican\"     => 2\n",
        "4.   \"Asian\"               => 3\n",
        "5.   \"Hispanic\"            => 4\n"
      ]
    },
    {
      "cell_type": "code",
      "metadata": {
        "id": "bIXgywMRYRNk",
        "colab_type": "code",
        "outputId": "8e330e3e-91be-4b1e-df99-4c8c9ad19774",
        "colab": {
          "base_uri": "https://localhost:8080/",
          "height": 357
        }
      },
      "source": [
        "diabetic[\"Race\"] = 0\n",
        "diabetic[\"Race\"][diabetic.race==\"Caucasian\"] = 1\n",
        "diabetic[\"Race\"][diabetic.race==\"AfricanAmerican\"] = 2\n",
        "diabetic[\"Race\"][diabetic.race==\"Asian\"] = 3\n",
        "diabetic[\"Race\"][diabetic.race==\"Hispanic\"] = 4"
      ],
      "execution_count": 0,
      "outputs": [
        {
          "output_type": "stream",
          "text": [
            "/usr/local/lib/python3.6/dist-packages/ipykernel_launcher.py:2: SettingWithCopyWarning: \n",
            "A value is trying to be set on a copy of a slice from a DataFrame\n",
            "\n",
            "See the caveats in the documentation: http://pandas.pydata.org/pandas-docs/stable/user_guide/indexing.html#returning-a-view-versus-a-copy\n",
            "  \n",
            "/usr/local/lib/python3.6/dist-packages/ipykernel_launcher.py:3: SettingWithCopyWarning: \n",
            "A value is trying to be set on a copy of a slice from a DataFrame\n",
            "\n",
            "See the caveats in the documentation: http://pandas.pydata.org/pandas-docs/stable/user_guide/indexing.html#returning-a-view-versus-a-copy\n",
            "  This is separate from the ipykernel package so we can avoid doing imports until\n",
            "/usr/local/lib/python3.6/dist-packages/ipykernel_launcher.py:4: SettingWithCopyWarning: \n",
            "A value is trying to be set on a copy of a slice from a DataFrame\n",
            "\n",
            "See the caveats in the documentation: http://pandas.pydata.org/pandas-docs/stable/user_guide/indexing.html#returning-a-view-versus-a-copy\n",
            "  after removing the cwd from sys.path.\n",
            "/usr/local/lib/python3.6/dist-packages/ipykernel_launcher.py:5: SettingWithCopyWarning: \n",
            "A value is trying to be set on a copy of a slice from a DataFrame\n",
            "\n",
            "See the caveats in the documentation: http://pandas.pydata.org/pandas-docs/stable/user_guide/indexing.html#returning-a-view-versus-a-copy\n",
            "  \"\"\"\n"
          ],
          "name": "stderr"
        }
      ]
    },
    {
      "cell_type": "code",
      "metadata": {
        "id": "iwMwTQOFZVvR",
        "colab_type": "code",
        "colab": {}
      },
      "source": [
        "diabetic = diabetic.drop(\"race\",axis=1)"
      ],
      "execution_count": 0,
      "outputs": []
    },
    {
      "cell_type": "markdown",
      "metadata": {
        "id": "vwk6_POIayaR",
        "colab_type": "text"
      },
      "source": [
        "Gender is transformed into numeric values.\n",
        "\n",
        "1.   \"Unknown/Invalid\"  => 0\n",
        "2.   \"Female\"           => 1\n",
        "3.   \"Male\"             => 2"
      ]
    },
    {
      "cell_type": "code",
      "metadata": {
        "id": "ib7IitdMZiY9",
        "colab_type": "code",
        "outputId": "8d3363fa-c6c4-4b3d-9093-bbe2c90202e8",
        "colab": {
          "base_uri": "https://localhost:8080/",
          "height": 187
        }
      },
      "source": [
        "diabetic[\"Gender\"] = 0\n",
        "diabetic[\"Gender\"][diabetic.gender==\"Female\"] = 1\n",
        "diabetic[\"Gender\"][diabetic.gender==\"Male\"] = 2"
      ],
      "execution_count": 0,
      "outputs": [
        {
          "output_type": "stream",
          "text": [
            "/usr/local/lib/python3.6/dist-packages/ipykernel_launcher.py:2: SettingWithCopyWarning: \n",
            "A value is trying to be set on a copy of a slice from a DataFrame\n",
            "\n",
            "See the caveats in the documentation: http://pandas.pydata.org/pandas-docs/stable/user_guide/indexing.html#returning-a-view-versus-a-copy\n",
            "  \n",
            "/usr/local/lib/python3.6/dist-packages/ipykernel_launcher.py:3: SettingWithCopyWarning: \n",
            "A value is trying to be set on a copy of a slice from a DataFrame\n",
            "\n",
            "See the caveats in the documentation: http://pandas.pydata.org/pandas-docs/stable/user_guide/indexing.html#returning-a-view-versus-a-copy\n",
            "  This is separate from the ipykernel package so we can avoid doing imports until\n"
          ],
          "name": "stderr"
        }
      ]
    },
    {
      "cell_type": "code",
      "metadata": {
        "id": "M-AeSKhoas8o",
        "colab_type": "code",
        "colab": {}
      },
      "source": [
        "diabetic = diabetic.drop(\"gender\",axis=1)"
      ],
      "execution_count": 0,
      "outputs": []
    },
    {
      "cell_type": "markdown",
      "metadata": {
        "id": "LgFSIH08a-I3",
        "colab_type": "text"
      },
      "source": [
        "Age is transformed into numeric values.\n",
        "\n",
        "1.   \"[0-10)\"               => 0\n",
        "2.   \"[10-20)\"              => 1\n",
        "3.   \"[20-30)\"              => 2\n",
        "4.   \"[30-40)\"              => 3\n",
        "5.   \"[40-50)\"              => 4\n",
        "5.   \"[50-60)\"              => 5\n",
        "6.   \"[60-70)\"              => 6\n",
        "7.   \"[70-80)\"              => 7\n",
        "8.   \"[80-90)\"              => 8\n",
        "9.   \"[90-100)\"             => 9"
      ]
    },
    {
      "cell_type": "code",
      "metadata": {
        "id": "47m-Ud0ubiT5",
        "colab_type": "code",
        "outputId": "3b68acfe-adee-4276-a128-fa8a80c00e93",
        "colab": {
          "base_uri": "https://localhost:8080/",
          "height": 782
        }
      },
      "source": [
        "diabetic[\"Age\"] = 0\n",
        "diabetic[\"Age\"][diabetic.age==\"[10-20)\"] = 1\n",
        "diabetic[\"Age\"][diabetic.age==\"[20-30)\"] = 2\n",
        "diabetic[\"Age\"][diabetic.age==\"[30-40)\"] = 3\n",
        "diabetic[\"Age\"][diabetic.age==\"[40-50)\"] = 4\n",
        "diabetic[\"Age\"][diabetic.age==\"[50-60)\"] = 5\n",
        "diabetic[\"Age\"][diabetic.age==\"[60-70)\"] = 6\n",
        "diabetic[\"Age\"][diabetic.age==\"[70-80)\"] = 7\n",
        "diabetic[\"Age\"][diabetic.age==\"[80-90)\"] = 8\n",
        "diabetic[\"Age\"][diabetic.age==\"[90-100)\"] = 9\n"
      ],
      "execution_count": 0,
      "outputs": [
        {
          "output_type": "stream",
          "text": [
            "/usr/local/lib/python3.6/dist-packages/ipykernel_launcher.py:2: SettingWithCopyWarning: \n",
            "A value is trying to be set on a copy of a slice from a DataFrame\n",
            "\n",
            "See the caveats in the documentation: http://pandas.pydata.org/pandas-docs/stable/user_guide/indexing.html#returning-a-view-versus-a-copy\n",
            "  \n",
            "/usr/local/lib/python3.6/dist-packages/ipykernel_launcher.py:3: SettingWithCopyWarning: \n",
            "A value is trying to be set on a copy of a slice from a DataFrame\n",
            "\n",
            "See the caveats in the documentation: http://pandas.pydata.org/pandas-docs/stable/user_guide/indexing.html#returning-a-view-versus-a-copy\n",
            "  This is separate from the ipykernel package so we can avoid doing imports until\n",
            "/usr/local/lib/python3.6/dist-packages/ipykernel_launcher.py:4: SettingWithCopyWarning: \n",
            "A value is trying to be set on a copy of a slice from a DataFrame\n",
            "\n",
            "See the caveats in the documentation: http://pandas.pydata.org/pandas-docs/stable/user_guide/indexing.html#returning-a-view-versus-a-copy\n",
            "  after removing the cwd from sys.path.\n",
            "/usr/local/lib/python3.6/dist-packages/ipykernel_launcher.py:5: SettingWithCopyWarning: \n",
            "A value is trying to be set on a copy of a slice from a DataFrame\n",
            "\n",
            "See the caveats in the documentation: http://pandas.pydata.org/pandas-docs/stable/user_guide/indexing.html#returning-a-view-versus-a-copy\n",
            "  \"\"\"\n",
            "/usr/local/lib/python3.6/dist-packages/ipykernel_launcher.py:6: SettingWithCopyWarning: \n",
            "A value is trying to be set on a copy of a slice from a DataFrame\n",
            "\n",
            "See the caveats in the documentation: http://pandas.pydata.org/pandas-docs/stable/user_guide/indexing.html#returning-a-view-versus-a-copy\n",
            "  \n",
            "/usr/local/lib/python3.6/dist-packages/ipykernel_launcher.py:7: SettingWithCopyWarning: \n",
            "A value is trying to be set on a copy of a slice from a DataFrame\n",
            "\n",
            "See the caveats in the documentation: http://pandas.pydata.org/pandas-docs/stable/user_guide/indexing.html#returning-a-view-versus-a-copy\n",
            "  import sys\n",
            "/usr/local/lib/python3.6/dist-packages/ipykernel_launcher.py:8: SettingWithCopyWarning: \n",
            "A value is trying to be set on a copy of a slice from a DataFrame\n",
            "\n",
            "See the caveats in the documentation: http://pandas.pydata.org/pandas-docs/stable/user_guide/indexing.html#returning-a-view-versus-a-copy\n",
            "  \n",
            "/usr/local/lib/python3.6/dist-packages/ipykernel_launcher.py:9: SettingWithCopyWarning: \n",
            "A value is trying to be set on a copy of a slice from a DataFrame\n",
            "\n",
            "See the caveats in the documentation: http://pandas.pydata.org/pandas-docs/stable/user_guide/indexing.html#returning-a-view-versus-a-copy\n",
            "  if __name__ == '__main__':\n",
            "/usr/local/lib/python3.6/dist-packages/ipykernel_launcher.py:10: SettingWithCopyWarning: \n",
            "A value is trying to be set on a copy of a slice from a DataFrame\n",
            "\n",
            "See the caveats in the documentation: http://pandas.pydata.org/pandas-docs/stable/user_guide/indexing.html#returning-a-view-versus-a-copy\n",
            "  # Remove the CWD from sys.path while we load stuff.\n"
          ],
          "name": "stderr"
        }
      ]
    },
    {
      "cell_type": "code",
      "metadata": {
        "id": "C-xtQliScIOK",
        "colab_type": "code",
        "colab": {}
      },
      "source": [
        "diabetic = diabetic.drop(\"age\",axis=1)"
      ],
      "execution_count": 0,
      "outputs": []
    },
    {
      "cell_type": "markdown",
      "metadata": {
        "id": "aAXfXxdpcU3V",
        "colab_type": "text"
      },
      "source": [
        "Change is transformed into numeric values.\n",
        "\n",
        "1.   \"Ch\"               => 0\n",
        "2.   \"No\"               => 1"
      ]
    },
    {
      "cell_type": "code",
      "metadata": {
        "id": "W1G6C6grcZ2o",
        "colab_type": "code",
        "outputId": "2073880a-fb97-45ef-9229-2b78e3f9f844",
        "colab": {
          "base_uri": "https://localhost:8080/",
          "height": 102
        }
      },
      "source": [
        "diabetic[\"Change\"] = 0\n",
        "diabetic[\"Change\"][diabetic.change==\"No\"] = 1"
      ],
      "execution_count": 0,
      "outputs": [
        {
          "output_type": "stream",
          "text": [
            "/usr/local/lib/python3.6/dist-packages/ipykernel_launcher.py:2: SettingWithCopyWarning: \n",
            "A value is trying to be set on a copy of a slice from a DataFrame\n",
            "\n",
            "See the caveats in the documentation: http://pandas.pydata.org/pandas-docs/stable/user_guide/indexing.html#returning-a-view-versus-a-copy\n",
            "  \n"
          ],
          "name": "stderr"
        }
      ]
    },
    {
      "cell_type": "code",
      "metadata": {
        "id": "Wt4eMBvMckFn",
        "colab_type": "code",
        "colab": {}
      },
      "source": [
        "diabetic = diabetic.drop(\"change\",axis=1)"
      ],
      "execution_count": 0,
      "outputs": []
    },
    {
      "cell_type": "markdown",
      "metadata": {
        "id": "kySNzMfDcuPc",
        "colab_type": "text"
      },
      "source": [
        "DiabetesMed is transformed into numeric values.\n",
        "\n",
        "1.   \"Yes\"               => 0\n",
        "2.   \"No\"                => 1"
      ]
    },
    {
      "cell_type": "code",
      "metadata": {
        "id": "6uEoyOalc_7x",
        "colab_type": "code",
        "outputId": "5990d0ed-55fc-45f9-8f06-a04441d6b686",
        "colab": {
          "base_uri": "https://localhost:8080/",
          "height": 102
        }
      },
      "source": [
        "diabetic[\"DiabetesMed\"] = 0\n",
        "diabetic[\"DiabetesMed\"][diabetic.diabetesMed==\"No\"] = 1"
      ],
      "execution_count": 0,
      "outputs": [
        {
          "output_type": "stream",
          "text": [
            "/usr/local/lib/python3.6/dist-packages/ipykernel_launcher.py:2: SettingWithCopyWarning: \n",
            "A value is trying to be set on a copy of a slice from a DataFrame\n",
            "\n",
            "See the caveats in the documentation: http://pandas.pydata.org/pandas-docs/stable/user_guide/indexing.html#returning-a-view-versus-a-copy\n",
            "  \n"
          ],
          "name": "stderr"
        }
      ]
    },
    {
      "cell_type": "code",
      "metadata": {
        "id": "kssHVByfdEvW",
        "colab_type": "code",
        "colab": {}
      },
      "source": [
        "diabetic = diabetic.drop(\"diabetesMed\",axis=1)"
      ],
      "execution_count": 0,
      "outputs": []
    },
    {
      "cell_type": "markdown",
      "metadata": {
        "id": "rbv6jMXBgZPd",
        "colab_type": "text"
      },
      "source": [
        "Max_glu_serum is transformed into numeric values.\n",
        "\n",
        "1. \"None\" => 0\n",
        "2. \"Norm\" => 1\n",
        "3. \">200\" => 2\n",
        "4. \">300\" => 3\n"
      ]
    },
    {
      "cell_type": "code",
      "metadata": {
        "id": "Rgxl1H8LhHbU",
        "colab_type": "code",
        "outputId": "0b9e7254-3be2-47a0-e2eb-7fd172de3e98",
        "colab": {
          "base_uri": "https://localhost:8080/",
          "height": 272
        }
      },
      "source": [
        "diabetic[\"Max_glu_serum\"] = 0\n",
        "diabetic[\"Max_glu_serum\"][diabetic.max_glu_serum==\"Norm\"] = 1\n",
        "diabetic[\"Max_glu_serum\"][diabetic.max_glu_serum==\">200\"] = 2\n",
        "diabetic[\"Max_glu_serum\"][diabetic.max_glu_serum==\">300\"] = 3"
      ],
      "execution_count": 0,
      "outputs": [
        {
          "output_type": "stream",
          "text": [
            "/usr/local/lib/python3.6/dist-packages/ipykernel_launcher.py:2: SettingWithCopyWarning: \n",
            "A value is trying to be set on a copy of a slice from a DataFrame\n",
            "\n",
            "See the caveats in the documentation: http://pandas.pydata.org/pandas-docs/stable/user_guide/indexing.html#returning-a-view-versus-a-copy\n",
            "  \n",
            "/usr/local/lib/python3.6/dist-packages/ipykernel_launcher.py:3: SettingWithCopyWarning: \n",
            "A value is trying to be set on a copy of a slice from a DataFrame\n",
            "\n",
            "See the caveats in the documentation: http://pandas.pydata.org/pandas-docs/stable/user_guide/indexing.html#returning-a-view-versus-a-copy\n",
            "  This is separate from the ipykernel package so we can avoid doing imports until\n",
            "/usr/local/lib/python3.6/dist-packages/ipykernel_launcher.py:4: SettingWithCopyWarning: \n",
            "A value is trying to be set on a copy of a slice from a DataFrame\n",
            "\n",
            "See the caveats in the documentation: http://pandas.pydata.org/pandas-docs/stable/user_guide/indexing.html#returning-a-view-versus-a-copy\n",
            "  after removing the cwd from sys.path.\n"
          ],
          "name": "stderr"
        }
      ]
    },
    {
      "cell_type": "code",
      "metadata": {
        "id": "6zPwkvawhZbk",
        "colab_type": "code",
        "colab": {}
      },
      "source": [
        "diabetic = diabetic.drop(\"max_glu_serum\",axis=1)"
      ],
      "execution_count": 0,
      "outputs": []
    },
    {
      "cell_type": "code",
      "metadata": {
        "id": "4zofiQZgZeCj",
        "colab_type": "code",
        "outputId": "fc51c756-01ac-46de-e717-08d010cb46ac",
        "colab": {
          "base_uri": "https://localhost:8080/",
          "height": 867
        }
      },
      "source": [
        "diabetic.info()"
      ],
      "execution_count": 0,
      "outputs": [
        {
          "output_type": "stream",
          "text": [
            "<class 'pandas.core.frame.DataFrame'>\n",
            "Int64Index: 70441 entries, 0 to 101765\n",
            "Data columns (total 45 columns):\n",
            "encounter_id                70441 non-null int64\n",
            "patient_nbr                 70441 non-null int64\n",
            "admission_type_id           70441 non-null int64\n",
            "discharge_disposition_id    70441 non-null int64\n",
            "admission_source_id         70441 non-null int64\n",
            "time_in_hospital            70441 non-null int64\n",
            "num_lab_procedures          70441 non-null int64\n",
            "num_procedures              70441 non-null int64\n",
            "num_medications             70441 non-null int64\n",
            "number_outpatient           70441 non-null int64\n",
            "number_emergency            70441 non-null int64\n",
            "number_inpatient            70441 non-null int64\n",
            "number_diagnoses            70441 non-null int64\n",
            "metformin                   70441 non-null object\n",
            "repaglinide                 70441 non-null object\n",
            "nateglinide                 70441 non-null object\n",
            "chlorpropamide              70441 non-null object\n",
            "glimepiride                 70441 non-null object\n",
            "acetohexamide               70441 non-null object\n",
            "glipizide                   70441 non-null object\n",
            "glyburide                   70441 non-null object\n",
            "tolbutamide                 70441 non-null object\n",
            "pioglitazone                70441 non-null object\n",
            "rosiglitazone               70441 non-null object\n",
            "acarbose                    70441 non-null object\n",
            "miglitol                    70441 non-null object\n",
            "troglitazone                70441 non-null object\n",
            "tolazamide                  70441 non-null object\n",
            "examide                     70441 non-null object\n",
            "citoglipton                 70441 non-null object\n",
            "insulin                     70441 non-null object\n",
            "glyburide-metformin         70441 non-null object\n",
            "glipizide-metformin         70441 non-null object\n",
            "glimepiride-pioglitazone    70441 non-null object\n",
            "metformin-rosiglitazone     70441 non-null object\n",
            "metformin-pioglitazone      70441 non-null object\n",
            "Cons_diag                   70441 non-null int64\n",
            "re_ad                       70441 non-null int64\n",
            "HbA1c                       70441 non-null int64\n",
            "Race                        70441 non-null int64\n",
            "Gender                      70441 non-null int64\n",
            "Age                         70441 non-null int64\n",
            "Change                      70441 non-null int64\n",
            "DiabetesMed                 70441 non-null int64\n",
            "Max_glu_serum               70441 non-null int64\n",
            "dtypes: int64(22), object(23)\n",
            "memory usage: 24.7+ MB\n"
          ],
          "name": "stdout"
        }
      ]
    },
    {
      "cell_type": "markdown",
      "metadata": {
        "id": "IdJrNjFec6iu",
        "colab_type": "text"
      },
      "source": [
        "The dataset contains 23 features for 23 drugs (or combos) which indicate for each of these, whether a change in that medication was made or not during the current hospital stay of patient. Medication change for diabetics upon admission has been shown by previous research to be associated with lower readmission rates.\n",
        "\n",
        "Therefore, we decide to drop these non-numeric columns.\n",
        "\n",
        "reference: https://medium.com/berkeleyischool/how-to-use-machine-learning-to-predict-hospital-readmissions-part-1-bd137cbdba07"
      ]
    },
    {
      "cell_type": "code",
      "metadata": {
        "id": "wF56T5RmdZSo",
        "colab_type": "code",
        "colab": {}
      },
      "source": [
        "diabetic_num = diabetic.drop(['metformin', 'repaglinide', 'nateglinide',\n",
        "                              'chlorpropamide','glimepiride','acetohexamide','glipizide',\n",
        "                              'glyburide','tolbutamide','pioglitazone','rosiglitazone','acarbose',\n",
        "                              'miglitol','troglitazone','tolazamide','examide','citoglipton',\n",
        "                              'insulin','glyburide-metformin','glipizide-metformin',\n",
        "                              'glimepiride-pioglitazone','metformin-rosiglitazone',\n",
        "                              'metformin-pioglitazone'],axis=1)"
      ],
      "execution_count": 0,
      "outputs": []
    },
    {
      "cell_type": "code",
      "metadata": {
        "id": "QJBVP9xvdgpF",
        "colab_type": "code",
        "outputId": "16f0398a-b77c-4ba7-e25a-2ae961bf6e64",
        "colab": {
          "base_uri": "https://localhost:8080/",
          "height": 476
        }
      },
      "source": [
        "diabetic_num.info()"
      ],
      "execution_count": 0,
      "outputs": [
        {
          "output_type": "stream",
          "text": [
            "<class 'pandas.core.frame.DataFrame'>\n",
            "Int64Index: 70441 entries, 0 to 101765\n",
            "Data columns (total 22 columns):\n",
            "encounter_id                70441 non-null int64\n",
            "patient_nbr                 70441 non-null int64\n",
            "admission_type_id           70441 non-null int64\n",
            "discharge_disposition_id    70441 non-null int64\n",
            "admission_source_id         70441 non-null int64\n",
            "time_in_hospital            70441 non-null int64\n",
            "num_lab_procedures          70441 non-null int64\n",
            "num_procedures              70441 non-null int64\n",
            "num_medications             70441 non-null int64\n",
            "number_outpatient           70441 non-null int64\n",
            "number_emergency            70441 non-null int64\n",
            "number_inpatient            70441 non-null int64\n",
            "number_diagnoses            70441 non-null int64\n",
            "Cons_diag                   70441 non-null int64\n",
            "re_ad                       70441 non-null int64\n",
            "HbA1c                       70441 non-null int64\n",
            "Race                        70441 non-null int64\n",
            "Gender                      70441 non-null int64\n",
            "Age                         70441 non-null int64\n",
            "Change                      70441 non-null int64\n",
            "DiabetesMed                 70441 non-null int64\n",
            "Max_glu_serum               70441 non-null int64\n",
            "dtypes: int64(22)\n",
            "memory usage: 12.4 MB\n"
          ],
          "name": "stdout"
        }
      ]
    },
    {
      "cell_type": "markdown",
      "metadata": {
        "id": "7AvaATxYdkRm",
        "colab_type": "text"
      },
      "source": [
        "Let's run the corr-matrix again."
      ]
    },
    {
      "cell_type": "code",
      "metadata": {
        "id": "ZQUhCw_ee18L",
        "colab_type": "code",
        "outputId": "509ab4b6-bbda-49cd-8914-e796d0de0bef",
        "colab": {
          "base_uri": "https://localhost:8080/",
          "height": 408
        }
      },
      "source": [
        "corr_matrix = diabetic_num.corr()\n",
        "corr_matrix[\"Cons_diag\"].sort_values(ascending=False)"
      ],
      "execution_count": 0,
      "outputs": [
        {
          "output_type": "execute_result",
          "data": {
            "text/plain": [
              "Cons_diag                   1.000000\n",
              "HbA1c                       0.123378\n",
              "Race                        0.056638\n",
              "Max_glu_serum               0.035608\n",
              "admission_type_id           0.029707\n",
              "number_emergency            0.008659\n",
              "Gender                      0.001255\n",
              "re_ad                      -0.010278\n",
              "admission_source_id        -0.022414\n",
              "discharge_disposition_id   -0.024340\n",
              "number_inpatient           -0.027235\n",
              "number_outpatient          -0.027827\n",
              "DiabetesMed                -0.066659\n",
              "num_lab_procedures         -0.066782\n",
              "Change                     -0.068617\n",
              "num_procedures             -0.094242\n",
              "patient_nbr                -0.094585\n",
              "encounter_id               -0.106001\n",
              "time_in_hospital           -0.136866\n",
              "num_medications            -0.142426\n",
              "Age                        -0.250490\n",
              "number_diagnoses           -0.418840\n",
              "Name: Cons_diag, dtype: float64"
            ]
          },
          "metadata": {
            "tags": []
          },
          "execution_count": 91
        }
      ]
    },
    {
      "cell_type": "markdown",
      "metadata": {
        "id": "rjlZH5DDe83Y",
        "colab_type": "text"
      },
      "source": [
        "After taking \"race\", \"age\", \"gender\",\"change\", \"max_glu_serum\" and \"diabetesMed\" into consideration, the column with the highest correlation to \"Cons_diag\" is \"number_diagnoses\", followed by \"Age\"."
      ]
    },
    {
      "cell_type": "code",
      "metadata": {
        "id": "bfcK11lfpRW6",
        "colab_type": "code",
        "outputId": "0c8f0685-3584-415f-ae96-283956d6e055",
        "colab": {
          "base_uri": "https://localhost:8080/",
          "height": 1000
        }
      },
      "source": [
        "attributes = [\"Cons_diag\", \"number_diagnoses\", \"Age\", \"num_medications\", \"HbA1c\"]\n",
        "scatter_matrix(diabetic_num[attributes], figsize=(12, 8))\n",
        "save_fig(\"scatter_matrix_plot\")"
      ],
      "execution_count": 0,
      "outputs": [
        {
          "output_type": "stream",
          "text": [
            "/usr/local/lib/python3.6/dist-packages/pandas/plotting/_matplotlib/tools.py:307: MatplotlibDeprecationWarning: \n",
            "The rowNum attribute was deprecated in Matplotlib 3.2 and will be removed two minor releases later. Use ax.get_subplotspec().rowspan.start instead.\n",
            "  layout[ax.rowNum, ax.colNum] = ax.get_visible()\n",
            "/usr/local/lib/python3.6/dist-packages/pandas/plotting/_matplotlib/tools.py:307: MatplotlibDeprecationWarning: \n",
            "The colNum attribute was deprecated in Matplotlib 3.2 and will be removed two minor releases later. Use ax.get_subplotspec().colspan.start instead.\n",
            "  layout[ax.rowNum, ax.colNum] = ax.get_visible()\n",
            "/usr/local/lib/python3.6/dist-packages/pandas/plotting/_matplotlib/tools.py:313: MatplotlibDeprecationWarning: \n",
            "The rowNum attribute was deprecated in Matplotlib 3.2 and will be removed two minor releases later. Use ax.get_subplotspec().rowspan.start instead.\n",
            "  if not layout[ax.rowNum + 1, ax.colNum]:\n",
            "/usr/local/lib/python3.6/dist-packages/pandas/plotting/_matplotlib/tools.py:313: MatplotlibDeprecationWarning: \n",
            "The colNum attribute was deprecated in Matplotlib 3.2 and will be removed two minor releases later. Use ax.get_subplotspec().colspan.start instead.\n",
            "  if not layout[ax.rowNum + 1, ax.colNum]:\n"
          ],
          "name": "stderr"
        },
        {
          "output_type": "error",
          "ename": "NameError",
          "evalue": "ignored",
          "traceback": [
            "\u001b[0;31m---------------------------------------------------------------------------\u001b[0m",
            "\u001b[0;31mNameError\u001b[0m                                 Traceback (most recent call last)",
            "\u001b[0;32m<ipython-input-93-35ddb30d19fe>\u001b[0m in \u001b[0;36m<module>\u001b[0;34m()\u001b[0m\n\u001b[1;32m      1\u001b[0m \u001b[0mattributes\u001b[0m \u001b[0;34m=\u001b[0m \u001b[0;34m[\u001b[0m\u001b[0;34m\"Cons_diag\"\u001b[0m\u001b[0;34m,\u001b[0m \u001b[0;34m\"number_diagnoses\"\u001b[0m\u001b[0;34m,\u001b[0m \u001b[0;34m\"Age\"\u001b[0m\u001b[0;34m,\u001b[0m \u001b[0;34m\"num_medications\"\u001b[0m\u001b[0;34m,\u001b[0m \u001b[0;34m\"HbA1c\"\u001b[0m\u001b[0;34m]\u001b[0m\u001b[0;34m\u001b[0m\u001b[0;34m\u001b[0m\u001b[0m\n\u001b[1;32m      2\u001b[0m \u001b[0mscatter_matrix\u001b[0m\u001b[0;34m(\u001b[0m\u001b[0mdiabetic_num\u001b[0m\u001b[0;34m[\u001b[0m\u001b[0mattributes\u001b[0m\u001b[0;34m]\u001b[0m\u001b[0;34m,\u001b[0m \u001b[0mfigsize\u001b[0m\u001b[0;34m=\u001b[0m\u001b[0;34m(\u001b[0m\u001b[0;36m12\u001b[0m\u001b[0;34m,\u001b[0m \u001b[0;36m8\u001b[0m\u001b[0;34m)\u001b[0m\u001b[0;34m)\u001b[0m\u001b[0;34m\u001b[0m\u001b[0;34m\u001b[0m\u001b[0m\n\u001b[0;32m----> 3\u001b[0;31m \u001b[0msave_fig\u001b[0m\u001b[0;34m(\u001b[0m\u001b[0;34m\"scatter_matrix_plot\"\u001b[0m\u001b[0;34m)\u001b[0m\u001b[0;34m\u001b[0m\u001b[0;34m\u001b[0m\u001b[0m\n\u001b[0m",
            "\u001b[0;32m<ipython-input-12-3c3cd1966184>\u001b[0m in \u001b[0;36msave_fig\u001b[0;34m(fig_id, tight_layout, fig_extension, resolution)\u001b[0m\n\u001b[1;32m     21\u001b[0m \u001b[0;34m\u001b[0m\u001b[0m\n\u001b[1;32m     22\u001b[0m \u001b[0;32mdef\u001b[0m \u001b[0msave_fig\u001b[0m\u001b[0;34m(\u001b[0m\u001b[0mfig_id\u001b[0m\u001b[0;34m,\u001b[0m \u001b[0mtight_layout\u001b[0m\u001b[0;34m=\u001b[0m\u001b[0;32mTrue\u001b[0m\u001b[0;34m,\u001b[0m \u001b[0mfig_extension\u001b[0m\u001b[0;34m=\u001b[0m\u001b[0;34m\"png\"\u001b[0m\u001b[0;34m,\u001b[0m \u001b[0mresolution\u001b[0m\u001b[0;34m=\u001b[0m\u001b[0;36m300\u001b[0m\u001b[0;34m)\u001b[0m\u001b[0;34m:\u001b[0m\u001b[0;34m\u001b[0m\u001b[0;34m\u001b[0m\u001b[0m\n\u001b[0;32m---> 23\u001b[0;31m     \u001b[0mpath\u001b[0m \u001b[0;34m=\u001b[0m \u001b[0mos\u001b[0m\u001b[0;34m.\u001b[0m\u001b[0mpath\u001b[0m\u001b[0;34m.\u001b[0m\u001b[0mjoin\u001b[0m\u001b[0;34m(\u001b[0m\u001b[0mIMAGES_PATH\u001b[0m\u001b[0;34m,\u001b[0m \u001b[0mfig_id\u001b[0m \u001b[0;34m+\u001b[0m \u001b[0;34m\".\"\u001b[0m \u001b[0;34m+\u001b[0m \u001b[0mfig_extension\u001b[0m\u001b[0;34m)\u001b[0m\u001b[0;34m\u001b[0m\u001b[0;34m\u001b[0m\u001b[0m\n\u001b[0m\u001b[1;32m     24\u001b[0m     \u001b[0mprint\u001b[0m\u001b[0;34m(\u001b[0m\u001b[0;34m\"Saving figure\"\u001b[0m\u001b[0;34m,\u001b[0m \u001b[0mfig_id\u001b[0m\u001b[0;34m)\u001b[0m\u001b[0;34m\u001b[0m\u001b[0;34m\u001b[0m\u001b[0m\n\u001b[1;32m     25\u001b[0m     \u001b[0;32mif\u001b[0m \u001b[0mtight_layout\u001b[0m\u001b[0;34m:\u001b[0m\u001b[0;34m\u001b[0m\u001b[0;34m\u001b[0m\u001b[0m\n",
            "\u001b[0;31mNameError\u001b[0m: name 'IMAGES_PATH' is not defined"
          ]
        },
        {
          "output_type": "display_data",
          "data": {
            "image/png": "[encoded data removed]",
            "text/plain": [
              "<Figure size 864x576 with 25 Axes>"
            ]
          },
          "metadata": {
            "tags": []
          }
        }
      ]
    },
    {
      "cell_type": "code",
      "metadata": {
        "id": "GPZ9XyyufjPX",
        "colab_type": "code",
        "outputId": "c3f4e250-bc32-405c-cc28-359e9a1545b7",
        "colab": {
          "base_uri": "https://localhost:8080/",
          "height": 408
        }
      },
      "source": [
        "corr_matrix[\"re_ad\"].sort_values(ascending=False)"
      ],
      "execution_count": 0,
      "outputs": [
        {
          "output_type": "execute_result",
          "data": {
            "text/plain": [
              "re_ad                       1.000000\n",
              "number_inpatient            0.100671\n",
              "discharge_disposition_id    0.065299\n",
              "time_in_hospital            0.054757\n",
              "Age                         0.045701\n",
              "number_diagnoses            0.044247\n",
              "num_medications             0.036067\n",
              "num_lab_procedures          0.031682\n",
              "number_emergency            0.028190\n",
              "Max_glu_serum               0.009238\n",
              "number_outpatient           0.008764\n",
              "admission_source_id         0.005402\n",
              "patient_nbr                 0.005099\n",
              "num_procedures              0.000068\n",
              "admission_type_id          -0.001643\n",
              "Gender                     -0.002167\n",
              "Race                       -0.002371\n",
              "HbA1c                      -0.009570\n",
              "Cons_diag                  -0.010278\n",
              "Change                     -0.015013\n",
              "DiabetesMed                -0.028076\n",
              "encounter_id               -0.047624\n",
              "Name: re_ad, dtype: float64"
            ]
          },
          "metadata": {
            "tags": []
          },
          "execution_count": 94
        }
      ]
    },
    {
      "cell_type": "markdown",
      "metadata": {
        "id": "T5Blxbq6ftdv",
        "colab_type": "text"
      },
      "source": [
        "The columns with the highese correlation to \"re_ad\" is \"number_inpatient\", but the correlation is pretty low."
      ]
    },
    {
      "cell_type": "markdown",
      "metadata": {
        "id": "69iuZIKc29jU",
        "colab_type": "text"
      },
      "source": [
        "# Random Forrest Classifier Model"
      ]
    },
    {
      "cell_type": "code",
      "metadata": {
        "id": "VOoB9In7mtAu",
        "colab_type": "code",
        "outputId": "d83ab3f8-0e71-4c3b-9606-c79ec7e9c400",
        "colab": {
          "base_uri": "https://localhost:8080/",
          "height": 34
        }
      },
      "source": [
        "train_set, test_set = split_train_test(diabetic_num, 0.2)\n",
        "len(train_set)"
      ],
      "execution_count": 0,
      "outputs": [
        {
          "output_type": "execute_result",
          "data": {
            "text/plain": [
              "56353"
            ]
          },
          "metadata": {
            "tags": []
          },
          "execution_count": 95
        }
      ]
    },
    {
      "cell_type": "code",
      "metadata": {
        "id": "Mc22lAJimvFa",
        "colab_type": "code",
        "outputId": "baed48e5-8ce5-4001-9dd0-3862bb8cf583",
        "colab": {
          "base_uri": "https://localhost:8080/",
          "height": 34
        }
      },
      "source": [
        "train_set.shape"
      ],
      "execution_count": 0,
      "outputs": [
        {
          "output_type": "execute_result",
          "data": {
            "text/plain": [
              "(56353, 22)"
            ]
          },
          "metadata": {
            "tags": []
          },
          "execution_count": 96
        }
      ]
    },
    {
      "cell_type": "code",
      "metadata": {
        "id": "D27Jjs0bnCLk",
        "colab_type": "code",
        "colab": {}
      },
      "source": [
        "diabetic_train = train_set.drop(\"Cons_diag\", axis=1) # drop labels for training set\n",
        "diabetic_train = diabetic_train.drop(\"re_ad\", axis=1)\n",
        "dia_labels_diag = train_set[\"Cons_diag\"].copy()\n",
        "dia_labels_read = train_set[\"re_ad\"].copy()"
      ],
      "execution_count": 0,
      "outputs": []
    },
    {
      "cell_type": "code",
      "metadata": {
        "id": "AIP6m4QFnF81",
        "colab_type": "code",
        "colab": {}
      },
      "source": [
        "test_labels_diag = test_set[\"Cons_diag\"].copy()\n",
        "test_labels_read = test_set[\"re_ad\"].copy()\n",
        "diabetic_test = test_set.drop(\"Cons_diag\", axis=1) # drop labels for testing set\n",
        "diabetic_test = diabetic_test.drop(\"re_ad\", axis=1)"
      ],
      "execution_count": 0,
      "outputs": []
    },
    {
      "cell_type": "code",
      "metadata": {
        "id": "PvUWxE7inPCN",
        "colab_type": "code",
        "outputId": "6a031467-6e0d-4e23-eec9-1f21ba94f8a3",
        "colab": {
          "base_uri": "https://localhost:8080/",
          "height": 34
        }
      },
      "source": [
        "diabetic_train.shape"
      ],
      "execution_count": 0,
      "outputs": [
        {
          "output_type": "execute_result",
          "data": {
            "text/plain": [
              "(56353, 20)"
            ]
          },
          "metadata": {
            "tags": []
          },
          "execution_count": 99
        }
      ]
    },
    {
      "cell_type": "code",
      "metadata": {
        "id": "3zl7nrYynTRX",
        "colab_type": "code",
        "outputId": "32415392-8ae4-4f90-f7b6-b22600e46718",
        "colab": {
          "base_uri": "https://localhost:8080/",
          "height": 34
        }
      },
      "source": [
        "diabetic_test.shape"
      ],
      "execution_count": 0,
      "outputs": [
        {
          "output_type": "execute_result",
          "data": {
            "text/plain": [
              "(14088, 20)"
            ]
          },
          "metadata": {
            "tags": []
          },
          "execution_count": 100
        }
      ]
    },
    {
      "cell_type": "markdown",
      "metadata": {
        "id": "LcherHnUnwTB",
        "colab_type": "text"
      },
      "source": [
        "Scaling the data."
      ]
    },
    {
      "cell_type": "code",
      "metadata": {
        "id": "dFdshOarntVu",
        "colab_type": "code",
        "colab": {}
      },
      "source": [
        "dia_tr = num_pipeline.fit_transform(train_set)"
      ],
      "execution_count": 0,
      "outputs": []
    },
    {
      "cell_type": "code",
      "metadata": {
        "id": "NVTFGE6Jsh9L",
        "colab_type": "code",
        "colab": {}
      },
      "source": [
        "dia_te = num_pipeline.fit_transform(test_set)"
      ],
      "execution_count": 0,
      "outputs": []
    },
    {
      "cell_type": "markdown",
      "metadata": {
        "id": "m7AgXP322cjG",
        "colab_type": "text"
      },
      "source": [
        "Train a Random Forest classifier on the dataset "
      ]
    },
    {
      "cell_type": "code",
      "metadata": {
        "id": "NFORPUQk20lA",
        "colab_type": "code",
        "colab": {}
      },
      "source": [
        "from sklearn.ensemble import RandomForestClassifier\n",
        "\n",
        "rnd_clf = RandomForestClassifier(n_estimators=100, random_state=42)"
      ],
      "execution_count": 0,
      "outputs": []
    },
    {
      "cell_type": "code",
      "metadata": {
        "id": "gbnahp0LRLBh",
        "colab_type": "code",
        "outputId": "cd8e61d6-9f9c-4a6a-b4a3-c09eb7b216ef",
        "colab": {
          "base_uri": "https://localhost:8080/",
          "height": 34
        }
      },
      "source": [
        "import time\n",
        "t0 = time.time()\n",
        "rnd_clf.fit(dia_tr, dia_labels_diag)\n",
        "t1 = time.time()\n",
        "print(\"Training took {:.2f}s\".format(t1 - t0))"
      ],
      "execution_count": 0,
      "outputs": [
        {
          "output_type": "stream",
          "text": [
            "Training took 3.15s\n"
          ],
          "name": "stdout"
        }
      ]
    },
    {
      "cell_type": "markdown",
      "metadata": {
        "id": "OmtLQQJIrZLP",
        "colab_type": "text"
      },
      "source": [
        "Accuracy score for predicting diagnoses of diabetes."
      ]
    },
    {
      "cell_type": "code",
      "metadata": {
        "id": "Uo98TPNKRaza",
        "colab_type": "code",
        "outputId": "07631215-9ac8-43dc-975a-7bc6836aca01",
        "colab": {
          "base_uri": "https://localhost:8080/",
          "height": 34
        }
      },
      "source": [
        "from sklearn.metrics import accuracy_score\n",
        "dia_pred = rnd_clf.predict(dia_te)\n",
        "as_rf_diag = accuracy_score(test_labels_diag, dia_pred)\n",
        "as_rf_diag"
      ],
      "execution_count": 0,
      "outputs": [
        {
          "output_type": "execute_result",
          "data": {
            "text/plain": [
              "1.0"
            ]
          },
          "metadata": {
            "tags": []
          },
          "execution_count": 105
        }
      ]
    },
    {
      "cell_type": "markdown",
      "metadata": {
        "id": "huwJGIIGpQnB",
        "colab_type": "text"
      },
      "source": [
        "Confusion Matrix, Precision and Recall for Prediction of Diagnoses for diabetes."
      ]
    },
    {
      "cell_type": "code",
      "metadata": {
        "id": "IygABqWLwdAi",
        "colab_type": "code",
        "outputId": "f0c8822c-2ba9-40bf-c11a-8d887696d28f",
        "colab": {
          "base_uri": "https://localhost:8080/",
          "height": 51
        }
      },
      "source": [
        "from sklearn.metrics import confusion_matrix\n",
        "confusion_matrix(test_labels_diag, dia_pred)"
      ],
      "execution_count": 0,
      "outputs": [
        {
          "output_type": "execute_result",
          "data": {
            "text/plain": [
              "array([[8597,    0],\n",
              "       [   0, 5491]])"
            ]
          },
          "metadata": {
            "tags": []
          },
          "execution_count": 106
        }
      ]
    },
    {
      "cell_type": "code",
      "metadata": {
        "id": "9UF4eu-Jo_Jb",
        "colab_type": "code",
        "outputId": "0edc37eb-12b5-4524-f2b5-e8e3ba864e4b",
        "colab": {
          "base_uri": "https://localhost:8080/",
          "height": 34
        }
      },
      "source": [
        "from sklearn.metrics import precision_score, recall_score\n",
        "ps_rf_diag = precision_score(test_labels_diag, dia_pred)\n",
        "ps_rf_diag"
      ],
      "execution_count": 0,
      "outputs": [
        {
          "output_type": "execute_result",
          "data": {
            "text/plain": [
              "1.0"
            ]
          },
          "metadata": {
            "tags": []
          },
          "execution_count": 107
        }
      ]
    },
    {
      "cell_type": "code",
      "metadata": {
        "id": "GHTs2UZMpPBT",
        "colab_type": "code",
        "outputId": "3cf4e3b7-2c17-4c47-b622-3d9885979a2e",
        "colab": {
          "base_uri": "https://localhost:8080/",
          "height": 34
        }
      },
      "source": [
        "rs_rf_diag = recall_score(test_labels_diag, dia_pred)\n",
        "rs_rf_diag"
      ],
      "execution_count": 0,
      "outputs": [
        {
          "output_type": "execute_result",
          "data": {
            "text/plain": [
              "1.0"
            ]
          },
          "metadata": {
            "tags": []
          },
          "execution_count": 108
        }
      ]
    },
    {
      "cell_type": "markdown",
      "metadata": {
        "id": "RuebNyAXrfLJ",
        "colab_type": "text"
      },
      "source": [
        "Accuracy score for predicting re-admitted."
      ]
    },
    {
      "cell_type": "code",
      "metadata": {
        "id": "LMGywCXItq2E",
        "colab_type": "code",
        "outputId": "03d73392-3211-49f4-8290-6b5742b944e8",
        "colab": {
          "base_uri": "https://localhost:8080/",
          "height": 34
        }
      },
      "source": [
        "rnd_clf.fit(dia_tr, dia_labels_read)\n",
        "read_pred = rnd_clf.predict(dia_te)\n",
        "as_rf_read = accuracy_score(test_labels_read, read_pred)\n",
        "as_rf_read"
      ],
      "execution_count": 0,
      "outputs": [
        {
          "output_type": "execute_result",
          "data": {
            "text/plain": [
              "1.0"
            ]
          },
          "metadata": {
            "tags": []
          },
          "execution_count": 109
        }
      ]
    },
    {
      "cell_type": "markdown",
      "metadata": {
        "id": "pTqt4Hnbqa4R",
        "colab_type": "text"
      },
      "source": [
        "Confusion Matrix, Precision and Recall for Prediction of re-admitted."
      ]
    },
    {
      "cell_type": "code",
      "metadata": {
        "id": "QPR1pngKPxn9",
        "colab_type": "code",
        "outputId": "e50ca424-b7b2-4f53-fd8c-1e2e1b4b011a",
        "colab": {
          "base_uri": "https://localhost:8080/",
          "height": 51
        }
      },
      "source": [
        "confusion_matrix(test_labels_read, read_pred)"
      ],
      "execution_count": 0,
      "outputs": [
        {
          "output_type": "execute_result",
          "data": {
            "text/plain": [
              "array([[12854,     0],\n",
              "       [    0,  1234]])"
            ]
          },
          "metadata": {
            "tags": []
          },
          "execution_count": 110
        }
      ]
    },
    {
      "cell_type": "code",
      "metadata": {
        "id": "DmitIE6AqgX_",
        "colab_type": "code",
        "outputId": "bcc68474-aa3c-465e-dd50-577c5e8e3f3f",
        "colab": {
          "base_uri": "https://localhost:8080/",
          "height": 34
        }
      },
      "source": [
        "ps_rf_read = precision_score(test_labels_read, read_pred)\n",
        "ps_rf_read"
      ],
      "execution_count": 0,
      "outputs": [
        {
          "output_type": "execute_result",
          "data": {
            "text/plain": [
              "1.0"
            ]
          },
          "metadata": {
            "tags": []
          },
          "execution_count": 111
        }
      ]
    },
    {
      "cell_type": "code",
      "metadata": {
        "id": "ynRXeS4ZqqUo",
        "colab_type": "code",
        "outputId": "1d551d78-ed90-4cdc-b04c-26a43fd97c76",
        "colab": {
          "base_uri": "https://localhost:8080/",
          "height": 34
        }
      },
      "source": [
        "rs_rf_read = recall_score(test_labels_read, read_pred)\n",
        "rs_rf_read"
      ],
      "execution_count": 0,
      "outputs": [
        {
          "output_type": "execute_result",
          "data": {
            "text/plain": [
              "1.0"
            ]
          },
          "metadata": {
            "tags": []
          },
          "execution_count": 112
        }
      ]
    },
    {
      "cell_type": "markdown",
      "metadata": {
        "id": "HZMC5ZtDtUWL",
        "colab_type": "text"
      },
      "source": [
        "Let's try using k-cross validation."
      ]
    },
    {
      "cell_type": "code",
      "metadata": {
        "id": "khmDQSmttfK4",
        "colab_type": "code",
        "outputId": "5589ba63-19d1-49b9-fafa-93bbff1182e9",
        "colab": {
          "base_uri": "https://localhost:8080/",
          "height": 34
        }
      },
      "source": [
        "from sklearn.model_selection import cross_val_score\n",
        "RFCscore_d = cross_val_score(rnd_clf, dia_tr, dia_labels_diag, cv=5, scoring=\"accuracy\")\n",
        "RFCscore_d"
      ],
      "execution_count": 0,
      "outputs": [
        {
          "output_type": "execute_result",
          "data": {
            "text/plain": [
              "array([1., 1., 1., 1., 1.])"
            ]
          },
          "metadata": {
            "tags": []
          },
          "execution_count": 113
        }
      ]
    },
    {
      "cell_type": "code",
      "metadata": {
        "id": "fZr2f_wyuS7A",
        "colab_type": "code",
        "outputId": "ba506e90-043d-4111-e834-e7ca3ba02a86",
        "colab": {
          "base_uri": "https://localhost:8080/",
          "height": 34
        }
      },
      "source": [
        "RFCscore_r = cross_val_score(rnd_clf, dia_tr, dia_labels_read, cv=5, scoring=\"accuracy\")\n",
        "RFCscore_r"
      ],
      "execution_count": 0,
      "outputs": [
        {
          "output_type": "execute_result",
          "data": {
            "text/plain": [
              "array([1., 1., 1., 1., 1.])"
            ]
          },
          "metadata": {
            "tags": []
          },
          "execution_count": 114
        }
      ]
    },
    {
      "cell_type": "markdown",
      "metadata": {
        "id": "oa4zRiaTqzNO",
        "colab_type": "text"
      },
      "source": [
        "# SVM Model"
      ]
    },
    {
      "cell_type": "markdown",
      "metadata": {
        "id": "MEZXtrCXuRb_",
        "colab_type": "text"
      },
      "source": [
        "# Linear Kernel"
      ]
    },
    {
      "cell_type": "code",
      "metadata": {
        "id": "v4P6tdLLq29_",
        "colab_type": "code",
        "outputId": "8a3f0a72-9e97-4a38-92f7-65aba21a09c6",
        "colab": {
          "base_uri": "https://localhost:8080/",
          "height": 153
        }
      },
      "source": [
        "from sklearn.svm import SVC\n",
        "from sklearn.svm import LinearSVC\n",
        "svm_clf = Pipeline([(\"linear_svc\", LinearSVC(C=1, loss=\"hinge\", random_state=42)),])\n",
        "svm_clf.fit(dia_tr, dia_labels_diag)\n"
      ],
      "execution_count": 0,
      "outputs": [
        {
          "output_type": "execute_result",
          "data": {
            "text/plain": [
              "Pipeline(memory=None,\n",
              "         steps=[('linear_svc',\n",
              "                 LinearSVC(C=1, class_weight=None, dual=True,\n",
              "                           fit_intercept=True, intercept_scaling=1,\n",
              "                           loss='hinge', max_iter=1000, multi_class='ovr',\n",
              "                           penalty='l2', random_state=42, tol=0.0001,\n",
              "                           verbose=0))],\n",
              "         verbose=False)"
            ]
          },
          "metadata": {
            "tags": []
          },
          "execution_count": 115
        }
      ]
    },
    {
      "cell_type": "code",
      "metadata": {
        "id": "cAO2n8Qctsr4",
        "colab_type": "code",
        "colab": {}
      },
      "source": [
        "svm_dia_pred = svm_clf.predict(dia_te)"
      ],
      "execution_count": 0,
      "outputs": []
    },
    {
      "cell_type": "code",
      "metadata": {
        "id": "_oN8vX9Nt2WD",
        "colab_type": "code",
        "outputId": "7d20475d-ef34-4fbd-8286-e8d4d66720f0",
        "colab": {
          "base_uri": "https://localhost:8080/",
          "height": 34
        }
      },
      "source": [
        "as_svm_diag = accuracy_score(test_labels_diag, svm_dia_pred)\n",
        "as_svm_diag"
      ],
      "execution_count": 0,
      "outputs": [
        {
          "output_type": "execute_result",
          "data": {
            "text/plain": [
              "1.0"
            ]
          },
          "metadata": {
            "tags": []
          },
          "execution_count": 117
        }
      ]
    },
    {
      "cell_type": "code",
      "metadata": {
        "id": "57lS8DQy0PME",
        "colab_type": "code",
        "outputId": "2bae6162-7692-490c-f370-f6277613f788",
        "colab": {
          "base_uri": "https://localhost:8080/",
          "height": 34
        }
      },
      "source": [
        "SVMCscore_d = cross_val_score(svm_clf, dia_tr, dia_labels_diag, cv=5, scoring=\"accuracy\")\n",
        "SVMCscore_d"
      ],
      "execution_count": 0,
      "outputs": [
        {
          "output_type": "execute_result",
          "data": {
            "text/plain": [
              "array([1., 1., 1., 1., 1.])"
            ]
          },
          "metadata": {
            "tags": []
          },
          "execution_count": 118
        }
      ]
    },
    {
      "cell_type": "markdown",
      "metadata": {
        "id": "L_YTILdvuIA0",
        "colab_type": "text"
      },
      "source": [
        "Confusion Matrix, Precision and Recall for Prediction of Diagnoses for diabetes."
      ]
    },
    {
      "cell_type": "code",
      "metadata": {
        "id": "UTq981WMuI5T",
        "colab_type": "code",
        "outputId": "70eb65aa-cf76-4b83-dc71-8b3f14f61b3e",
        "colab": {
          "base_uri": "https://localhost:8080/",
          "height": 51
        }
      },
      "source": [
        "confusion_matrix(test_labels_diag, svm_dia_pred)"
      ],
      "execution_count": 0,
      "outputs": [
        {
          "output_type": "execute_result",
          "data": {
            "text/plain": [
              "array([[8597,    0],\n",
              "       [   0, 5491]])"
            ]
          },
          "metadata": {
            "tags": []
          },
          "execution_count": 119
        }
      ]
    },
    {
      "cell_type": "code",
      "metadata": {
        "id": "pXdkLlX_uPue",
        "colab_type": "code",
        "outputId": "dd7bfa48-10b2-4274-e387-c562dcbac5fb",
        "colab": {
          "base_uri": "https://localhost:8080/",
          "height": 34
        }
      },
      "source": [
        "ps_svm_diag = precision_score(test_labels_diag, svm_dia_pred)\n",
        "ps_svm_diag"
      ],
      "execution_count": 0,
      "outputs": [
        {
          "output_type": "execute_result",
          "data": {
            "text/plain": [
              "1.0"
            ]
          },
          "metadata": {
            "tags": []
          },
          "execution_count": 120
        }
      ]
    },
    {
      "cell_type": "code",
      "metadata": {
        "id": "Lwz4ExhauXYw",
        "colab_type": "code",
        "outputId": "8074cc3b-8a37-4b03-9cd2-bb6ac72037f5",
        "colab": {
          "base_uri": "https://localhost:8080/",
          "height": 34
        }
      },
      "source": [
        "rs_svm_diag = recall_score(test_labels_diag, svm_dia_pred)\n",
        "rs_svm_diag"
      ],
      "execution_count": 0,
      "outputs": [
        {
          "output_type": "execute_result",
          "data": {
            "text/plain": [
              "1.0"
            ]
          },
          "metadata": {
            "tags": []
          },
          "execution_count": 121
        }
      ]
    },
    {
      "cell_type": "code",
      "metadata": {
        "id": "dZ6e1sh9ulfJ",
        "colab_type": "code",
        "colab": {}
      },
      "source": [
        "svm_clf.fit(dia_tr, dia_labels_read)\n",
        "svm_read_pred = svm_clf.predict(dia_te)"
      ],
      "execution_count": 0,
      "outputs": []
    },
    {
      "cell_type": "code",
      "metadata": {
        "id": "FxbbDESEuw-m",
        "colab_type": "code",
        "outputId": "b11dff96-54f2-46ad-919b-136f2a024ebd",
        "colab": {
          "base_uri": "https://localhost:8080/",
          "height": 34
        }
      },
      "source": [
        "as_svm_read = accuracy_score(test_labels_read, svm_read_pred)\n",
        "as_svm_read"
      ],
      "execution_count": 0,
      "outputs": [
        {
          "output_type": "execute_result",
          "data": {
            "text/plain": [
              "1.0"
            ]
          },
          "metadata": {
            "tags": []
          },
          "execution_count": 123
        }
      ]
    },
    {
      "cell_type": "code",
      "metadata": {
        "id": "WRwpa8SI0YXA",
        "colab_type": "code",
        "outputId": "9a6d2d03-81a9-465a-cf1f-9c5616b1c1b3",
        "colab": {
          "base_uri": "https://localhost:8080/",
          "height": 34
        }
      },
      "source": [
        "SVMCscore_r = cross_val_score(svm_clf, dia_tr, dia_labels_read, cv=5, scoring=\"accuracy\")\n",
        "SVMCscore_r"
      ],
      "execution_count": 0,
      "outputs": [
        {
          "output_type": "execute_result",
          "data": {
            "text/plain": [
              "array([1., 1., 1., 1., 1.])"
            ]
          },
          "metadata": {
            "tags": []
          },
          "execution_count": 124
        }
      ]
    },
    {
      "cell_type": "markdown",
      "metadata": {
        "id": "XhjTdbQHvPVj",
        "colab_type": "text"
      },
      "source": [
        "Confusion Matrix, Precision and Recall for Prediction of re-admitted."
      ]
    },
    {
      "cell_type": "code",
      "metadata": {
        "id": "QqvOn63O13Q8",
        "colab_type": "code",
        "outputId": "4a3fa631-9689-4a34-8268-fdc01f1dce10",
        "colab": {
          "base_uri": "https://localhost:8080/",
          "height": 51
        }
      },
      "source": [
        "confusion_matrix(test_labels_read, svm_read_pred)"
      ],
      "execution_count": 0,
      "outputs": [
        {
          "output_type": "execute_result",
          "data": {
            "text/plain": [
              "array([[12854,     0],\n",
              "       [    0,  1234]])"
            ]
          },
          "metadata": {
            "tags": []
          },
          "execution_count": 125
        }
      ]
    },
    {
      "cell_type": "code",
      "metadata": {
        "id": "iakrM6p6u6AP",
        "colab_type": "code",
        "outputId": "7d5b1c05-b184-4920-90fb-0a629f34306e",
        "colab": {
          "base_uri": "https://localhost:8080/",
          "height": 34
        }
      },
      "source": [
        "ps_svm_read = precision_score(test_labels_read, svm_read_pred)\n",
        "ps_svm_read"
      ],
      "execution_count": 0,
      "outputs": [
        {
          "output_type": "execute_result",
          "data": {
            "text/plain": [
              "1.0"
            ]
          },
          "metadata": {
            "tags": []
          },
          "execution_count": 126
        }
      ]
    },
    {
      "cell_type": "code",
      "metadata": {
        "id": "HXfSobU6u9CN",
        "colab_type": "code",
        "outputId": "69d97c94-5b09-4432-b4a7-ef60345c3158",
        "colab": {
          "base_uri": "https://localhost:8080/",
          "height": 34
        }
      },
      "source": [
        "rs_svm_read = recall_score(test_labels_read, svm_read_pred)\n",
        "rs_svm_read"
      ],
      "execution_count": 0,
      "outputs": [
        {
          "output_type": "execute_result",
          "data": {
            "text/plain": [
              "1.0"
            ]
          },
          "metadata": {
            "tags": []
          },
          "execution_count": 127
        }
      ]
    },
    {
      "cell_type": "markdown",
      "metadata": {
        "id": "OQSrfrSzykIb",
        "colab_type": "text"
      },
      "source": [
        "Let's using SGDClassifier."
      ]
    },
    {
      "cell_type": "code",
      "metadata": {
        "id": "A1__j6eFyocL",
        "colab_type": "code",
        "outputId": "274062fc-3c53-4adb-e576-a08424f1371a",
        "colab": {
          "base_uri": "https://localhost:8080/",
          "height": 119
        }
      },
      "source": [
        "from sklearn.linear_model import SGDClassifier\n",
        "\n",
        "sgd_clf = SGDClassifier(max_iter=1000, tol=1e-3, random_state=42)\n",
        "sgd_clf.fit(dia_tr, dia_labels_diag)\n"
      ],
      "execution_count": 0,
      "outputs": [
        {
          "output_type": "execute_result",
          "data": {
            "text/plain": [
              "SGDClassifier(alpha=0.0001, average=False, class_weight=None,\n",
              "              early_stopping=False, epsilon=0.1, eta0=0.0, fit_intercept=True,\n",
              "              l1_ratio=0.15, learning_rate='optimal', loss='hinge',\n",
              "              max_iter=1000, n_iter_no_change=5, n_jobs=None, penalty='l2',\n",
              "              power_t=0.5, random_state=42, shuffle=True, tol=0.001,\n",
              "              validation_fraction=0.1, verbose=0, warm_start=False)"
            ]
          },
          "metadata": {
            "tags": []
          },
          "execution_count": 128
        }
      ]
    },
    {
      "cell_type": "code",
      "metadata": {
        "id": "8bMzaQON1p-k",
        "colab_type": "code",
        "colab": {}
      },
      "source": [
        "sgd_dia_pred =sgd_clf.predict(dia_te)"
      ],
      "execution_count": 0,
      "outputs": []
    },
    {
      "cell_type": "code",
      "metadata": {
        "id": "c5b8PAgV1uDy",
        "colab_type": "code",
        "outputId": "60e31200-23cd-41da-8eea-30c21f5fed40",
        "colab": {
          "base_uri": "https://localhost:8080/",
          "height": 34
        }
      },
      "source": [
        "as_sgd_diag = accuracy_score(test_labels_diag, sgd_dia_pred)\n",
        "as_sgd_diag"
      ],
      "execution_count": 0,
      "outputs": [
        {
          "output_type": "execute_result",
          "data": {
            "text/plain": [
              "0.9999290176036343"
            ]
          },
          "metadata": {
            "tags": []
          },
          "execution_count": 130
        }
      ]
    },
    {
      "cell_type": "code",
      "metadata": {
        "id": "JH1ay_VbjLbT",
        "colab_type": "code",
        "outputId": "1e675da3-d3fb-442a-be83-4ccab69d30d2",
        "colab": {
          "base_uri": "https://localhost:8080/",
          "height": 34
        }
      },
      "source": [
        "SGDCscore_d = cross_val_score(sgd_clf, dia_tr, dia_labels_diag, cv=5, scoring=\"accuracy\")\n",
        "SGDCscore_d"
      ],
      "execution_count": 0,
      "outputs": [
        {
          "output_type": "execute_result",
          "data": {
            "text/plain": [
              "array([1.        , 1.        , 0.99813681, 1.        , 1.        ])"
            ]
          },
          "metadata": {
            "tags": []
          },
          "execution_count": 131
        }
      ]
    },
    {
      "cell_type": "code",
      "metadata": {
        "id": "ioCVt_c71-s7",
        "colab_type": "code",
        "outputId": "b064aaa7-a174-40d2-85b6-693d89708c90",
        "colab": {
          "base_uri": "https://localhost:8080/",
          "height": 51
        }
      },
      "source": [
        "confusion_matrix(test_labels_diag, sgd_dia_pred)"
      ],
      "execution_count": 0,
      "outputs": [
        {
          "output_type": "execute_result",
          "data": {
            "text/plain": [
              "array([[8596,    1],\n",
              "       [   0, 5491]])"
            ]
          },
          "metadata": {
            "tags": []
          },
          "execution_count": 132
        }
      ]
    },
    {
      "cell_type": "code",
      "metadata": {
        "id": "wEnrI9R_2A5f",
        "colab_type": "code",
        "outputId": "7324e5b0-c221-408a-802a-01eb5b526985",
        "colab": {
          "base_uri": "https://localhost:8080/",
          "height": 34
        }
      },
      "source": [
        "ps_sgd_diag = precision_score(test_labels_diag, sgd_dia_pred)\n",
        "ps_sgd_diag"
      ],
      "execution_count": 0,
      "outputs": [
        {
          "output_type": "execute_result",
          "data": {
            "text/plain": [
              "0.9998179169701383"
            ]
          },
          "metadata": {
            "tags": []
          },
          "execution_count": 133
        }
      ]
    },
    {
      "cell_type": "code",
      "metadata": {
        "id": "BZg9N6Ry2EVk",
        "colab_type": "code",
        "outputId": "ede2ec89-bc20-43f3-bcb4-da887bdb506e",
        "colab": {
          "base_uri": "https://localhost:8080/",
          "height": 34
        }
      },
      "source": [
        "rs_sgd_diag = recall_score(test_labels_diag, sgd_dia_pred)\n",
        "rs_sgd_diag"
      ],
      "execution_count": 0,
      "outputs": [
        {
          "output_type": "execute_result",
          "data": {
            "text/plain": [
              "1.0"
            ]
          },
          "metadata": {
            "tags": []
          },
          "execution_count": 134
        }
      ]
    },
    {
      "cell_type": "code",
      "metadata": {
        "id": "Vafydie-2HZ2",
        "colab_type": "code",
        "colab": {}
      },
      "source": [
        "sgd_clf.fit(dia_tr, dia_labels_read)\n",
        "sgd_read_pred =sgd_clf.predict(dia_te)"
      ],
      "execution_count": 0,
      "outputs": []
    },
    {
      "cell_type": "code",
      "metadata": {
        "id": "SRCnhedT2RW1",
        "colab_type": "code",
        "outputId": "fc6ad2cd-9260-4697-c258-66cf73008c6c",
        "colab": {
          "base_uri": "https://localhost:8080/",
          "height": 34
        }
      },
      "source": [
        "as_sgd_read = accuracy_score(test_labels_read, sgd_read_pred)\n",
        "as_sgd_read"
      ],
      "execution_count": 0,
      "outputs": [
        {
          "output_type": "execute_result",
          "data": {
            "text/plain": [
              "1.0"
            ]
          },
          "metadata": {
            "tags": []
          },
          "execution_count": 136
        }
      ]
    },
    {
      "cell_type": "code",
      "metadata": {
        "id": "zJBgZouVjWE1",
        "colab_type": "code",
        "outputId": "369c33f1-6b00-419a-c9ca-ae4f9d8bd852",
        "colab": {
          "base_uri": "https://localhost:8080/",
          "height": 34
        }
      },
      "source": [
        "SGDCscore_r = cross_val_score(sgd_clf, dia_tr, dia_labels_read, cv=5, scoring=\"accuracy\")\n",
        "SGDCscore_r"
      ],
      "execution_count": 0,
      "outputs": [
        {
          "output_type": "execute_result",
          "data": {
            "text/plain": [
              "array([1., 1., 1., 1., 1.])"
            ]
          },
          "metadata": {
            "tags": []
          },
          "execution_count": 137
        }
      ]
    },
    {
      "cell_type": "code",
      "metadata": {
        "id": "H3VeDsPG2Wwt",
        "colab_type": "code",
        "outputId": "973dd661-2fdd-46b5-c09f-f578518bd88a",
        "colab": {
          "base_uri": "https://localhost:8080/",
          "height": 51
        }
      },
      "source": [
        "confusion_matrix(test_labels_read, sgd_read_pred)"
      ],
      "execution_count": 0,
      "outputs": [
        {
          "output_type": "execute_result",
          "data": {
            "text/plain": [
              "array([[12854,     0],\n",
              "       [    0,  1234]])"
            ]
          },
          "metadata": {
            "tags": []
          },
          "execution_count": 138
        }
      ]
    },
    {
      "cell_type": "code",
      "metadata": {
        "id": "VrBsCgQI2Z9y",
        "colab_type": "code",
        "outputId": "52e6225e-19cf-49bd-ff37-925213a5a486",
        "colab": {
          "base_uri": "https://localhost:8080/",
          "height": 34
        }
      },
      "source": [
        "ps_sgd_read = precision_score(test_labels_read, sgd_read_pred)\n",
        "ps_sgd_read"
      ],
      "execution_count": 0,
      "outputs": [
        {
          "output_type": "execute_result",
          "data": {
            "text/plain": [
              "1.0"
            ]
          },
          "metadata": {
            "tags": []
          },
          "execution_count": 139
        }
      ]
    },
    {
      "cell_type": "code",
      "metadata": {
        "id": "YfX6WMfw2c--",
        "colab_type": "code",
        "outputId": "d3b1daec-5000-4348-d0ad-d9160805d29c",
        "colab": {
          "base_uri": "https://localhost:8080/",
          "height": 34
        }
      },
      "source": [
        "rs_sgd_read = recall_score(test_labels_read, sgd_read_pred)\n",
        "rs_sgd_read"
      ],
      "execution_count": 0,
      "outputs": [
        {
          "output_type": "execute_result",
          "data": {
            "text/plain": [
              "1.0"
            ]
          },
          "metadata": {
            "tags": []
          },
          "execution_count": 140
        }
      ]
    },
    {
      "cell_type": "markdown",
      "metadata": {
        "id": "WskpR1MrvHTN",
        "colab_type": "text"
      },
      "source": [
        "# Non-linear Kernel"
      ]
    },
    {
      "cell_type": "code",
      "metadata": {
        "id": "pe0UpLIjvKyi",
        "colab_type": "code",
        "colab": {}
      },
      "source": [
        "from sklearn.preprocessing import PolynomialFeatures\n",
        "polynomial_svm_clf = Pipeline([\n",
        "        (\"poly_features\", PolynomialFeatures(degree=3)),\n",
        "        (\"svm_clf\", LinearSVC(C=10, loss=\"hinge\", random_state=42))\n",
        "    ])"
      ],
      "execution_count": 0,
      "outputs": []
    },
    {
      "cell_type": "code",
      "metadata": {
        "id": "gs5krxzyvepw",
        "colab_type": "code",
        "outputId": "0fcae16c-1cfe-40d5-a020-e79daffd5e84",
        "colab": {
          "base_uri": "https://localhost:8080/",
          "height": 204
        }
      },
      "source": [
        "polynomial_svm_clf.fit(dia_tr, dia_labels_diag)"
      ],
      "execution_count": 0,
      "outputs": [
        {
          "output_type": "execute_result",
          "data": {
            "text/plain": [
              "Pipeline(memory=None,\n",
              "         steps=[('poly_features',\n",
              "                 PolynomialFeatures(degree=3, include_bias=True,\n",
              "                                    interaction_only=False, order='C')),\n",
              "                ('svm_clf',\n",
              "                 LinearSVC(C=10, class_weight=None, dual=True,\n",
              "                           fit_intercept=True, intercept_scaling=1,\n",
              "                           loss='hinge', max_iter=1000, multi_class='ovr',\n",
              "                           penalty='l2', random_state=42, tol=0.0001,\n",
              "                           verbose=0))],\n",
              "         verbose=False)"
            ]
          },
          "metadata": {
            "tags": []
          },
          "execution_count": 142
        }
      ]
    },
    {
      "cell_type": "code",
      "metadata": {
        "id": "0ygXxi8vvpS2",
        "colab_type": "code",
        "colab": {}
      },
      "source": [
        "svm_poly_dia_pred = polynomial_svm_clf.predict(dia_te)"
      ],
      "execution_count": 0,
      "outputs": []
    },
    {
      "cell_type": "code",
      "metadata": {
        "id": "XUAA3-e4vy3V",
        "colab_type": "code",
        "outputId": "fb9cb1b8-9dfc-44fc-ad4c-c8dee034d20c",
        "colab": {
          "base_uri": "https://localhost:8080/",
          "height": 34
        }
      },
      "source": [
        "as_svm_poly_diag = accuracy_score(test_labels_diag, svm_poly_dia_pred)\n",
        "as_svm_poly_diag"
      ],
      "execution_count": 0,
      "outputs": [
        {
          "output_type": "execute_result",
          "data": {
            "text/plain": [
              "1.0"
            ]
          },
          "metadata": {
            "tags": []
          },
          "execution_count": 144
        }
      ]
    },
    {
      "cell_type": "code",
      "metadata": {
        "id": "77tfzNNfyF5T",
        "colab_type": "code",
        "outputId": "f5a2437e-0331-453e-aaa0-45c139d9af5d",
        "colab": {
          "base_uri": "https://localhost:8080/",
          "height": 34
        }
      },
      "source": [
        "PolyCscore_d = cross_val_score(polynomial_svm_clf, dia_tr, dia_labels_diag, cv=3, scoring=\"accuracy\")\n",
        "PolyCscore_d"
      ],
      "execution_count": 0,
      "outputs": [
        {
          "output_type": "execute_result",
          "data": {
            "text/plain": [
              "array([0.99994677, 0.99989353, 0.99994676])"
            ]
          },
          "metadata": {
            "tags": []
          },
          "execution_count": 145
        }
      ]
    },
    {
      "cell_type": "markdown",
      "metadata": {
        "id": "s64P1Httv5aM",
        "colab_type": "text"
      },
      "source": [
        "Confusion Matrix, Precision and Recall for Prediction of Diagnoses for diabetes."
      ]
    },
    {
      "cell_type": "code",
      "metadata": {
        "id": "CFKKeCLUv2Bh",
        "colab_type": "code",
        "outputId": "96fc44ab-00de-44bc-bcb6-5d069abc5d3d",
        "colab": {
          "base_uri": "https://localhost:8080/",
          "height": 51
        }
      },
      "source": [
        "confusion_matrix(test_labels_diag, svm_poly_dia_pred)"
      ],
      "execution_count": 0,
      "outputs": [
        {
          "output_type": "execute_result",
          "data": {
            "text/plain": [
              "array([[8597,    0],\n",
              "       [   0, 5491]])"
            ]
          },
          "metadata": {
            "tags": []
          },
          "execution_count": 146
        }
      ]
    },
    {
      "cell_type": "code",
      "metadata": {
        "id": "dgZ64vq4v_uL",
        "colab_type": "code",
        "outputId": "82afbd9d-ba1c-432b-a198-a08dc8ca239a",
        "colab": {
          "base_uri": "https://localhost:8080/",
          "height": 34
        }
      },
      "source": [
        "ps_svm_poly_diag = precision_score(test_labels_diag, svm_poly_dia_pred)\n",
        "ps_svm_poly_diag"
      ],
      "execution_count": 0,
      "outputs": [
        {
          "output_type": "execute_result",
          "data": {
            "text/plain": [
              "1.0"
            ]
          },
          "metadata": {
            "tags": []
          },
          "execution_count": 147
        }
      ]
    },
    {
      "cell_type": "code",
      "metadata": {
        "id": "PAGAUeIwwE41",
        "colab_type": "code",
        "outputId": "3709ac19-c677-4c4d-8d4e-0e680b312c3a",
        "colab": {
          "base_uri": "https://localhost:8080/",
          "height": 34
        }
      },
      "source": [
        "rs_svm_poly_diag = recall_score(test_labels_diag, svm_poly_dia_pred)\n",
        "rs_svm_poly_diag"
      ],
      "execution_count": 0,
      "outputs": [
        {
          "output_type": "execute_result",
          "data": {
            "text/plain": [
              "1.0"
            ]
          },
          "metadata": {
            "tags": []
          },
          "execution_count": 148
        }
      ]
    },
    {
      "cell_type": "code",
      "metadata": {
        "id": "CtdOstlnwODP",
        "colab_type": "code",
        "outputId": "a2197ea2-594d-423d-d1bd-4bbda7b2f84b",
        "colab": {
          "base_uri": "https://localhost:8080/",
          "height": 204
        }
      },
      "source": [
        "polynomial_svm_clf.fit(dia_tr, dia_labels_read)"
      ],
      "execution_count": 0,
      "outputs": [
        {
          "output_type": "execute_result",
          "data": {
            "text/plain": [
              "Pipeline(memory=None,\n",
              "         steps=[('poly_features',\n",
              "                 PolynomialFeatures(degree=3, include_bias=True,\n",
              "                                    interaction_only=False, order='C')),\n",
              "                ('svm_clf',\n",
              "                 LinearSVC(C=10, class_weight=None, dual=True,\n",
              "                           fit_intercept=True, intercept_scaling=1,\n",
              "                           loss='hinge', max_iter=1000, multi_class='ovr',\n",
              "                           penalty='l2', random_state=42, tol=0.0001,\n",
              "                           verbose=0))],\n",
              "         verbose=False)"
            ]
          },
          "metadata": {
            "tags": []
          },
          "execution_count": 149
        }
      ]
    },
    {
      "cell_type": "code",
      "metadata": {
        "id": "wRaqWR_dwS-7",
        "colab_type": "code",
        "colab": {}
      },
      "source": [
        "svm_poly_read_pred = polynomial_svm_clf.predict(dia_te)"
      ],
      "execution_count": 0,
      "outputs": []
    },
    {
      "cell_type": "code",
      "metadata": {
        "id": "y1QSMvBMwVhM",
        "colab_type": "code",
        "outputId": "2072e0e9-d4bd-41c2-8f74-73fe01eed01d",
        "colab": {
          "base_uri": "https://localhost:8080/",
          "height": 34
        }
      },
      "source": [
        "as_svm_poly_read = accuracy_score(test_labels_read, svm_poly_read_pred)\n",
        "as_svm_poly_read"
      ],
      "execution_count": 0,
      "outputs": [
        {
          "output_type": "execute_result",
          "data": {
            "text/plain": [
              "0.9999290176036343"
            ]
          },
          "metadata": {
            "tags": []
          },
          "execution_count": 151
        }
      ]
    },
    {
      "cell_type": "code",
      "metadata": {
        "id": "uY4CQXUVycee",
        "colab_type": "code",
        "outputId": "5d6365fb-a74b-43d6-9101-2633a926d2ab",
        "colab": {
          "base_uri": "https://localhost:8080/",
          "height": 34
        }
      },
      "source": [
        "PolyCscore_r = cross_val_score(polynomial_svm_clf, dia_tr, dia_labels_read, cv=3, scoring=\"accuracy\")\n",
        "PolyCscore_r"
      ],
      "execution_count": 0,
      "outputs": [
        {
          "output_type": "execute_result",
          "data": {
            "text/plain": [
              "array([0.99962736, 1.        , 0.99989353])"
            ]
          },
          "metadata": {
            "tags": []
          },
          "execution_count": 152
        }
      ]
    },
    {
      "cell_type": "markdown",
      "metadata": {
        "id": "8R7Ho67JwIyG",
        "colab_type": "text"
      },
      "source": [
        "Confusion Matrix, Precision and Recall for Prediction of re-admitted."
      ]
    },
    {
      "cell_type": "code",
      "metadata": {
        "id": "KuUeMsXRw6H2",
        "colab_type": "code",
        "outputId": "cff8717c-c9f9-483b-f287-e39f52ff38af",
        "colab": {
          "base_uri": "https://localhost:8080/",
          "height": 51
        }
      },
      "source": [
        "confusion_matrix(test_labels_read, svm_poly_read_pred)"
      ],
      "execution_count": 0,
      "outputs": [
        {
          "output_type": "execute_result",
          "data": {
            "text/plain": [
              "array([[12854,     0],\n",
              "       [    1,  1233]])"
            ]
          },
          "metadata": {
            "tags": []
          },
          "execution_count": 153
        }
      ]
    },
    {
      "cell_type": "code",
      "metadata": {
        "id": "d9CvCmK-w8-W",
        "colab_type": "code",
        "outputId": "6eb112f1-60ea-4157-8e93-d389f997a14d",
        "colab": {
          "base_uri": "https://localhost:8080/",
          "height": 34
        }
      },
      "source": [
        "ps_svm_poly_read = precision_score(test_labels_read, svm_poly_read_pred)\n",
        "ps_svm_poly_read"
      ],
      "execution_count": 0,
      "outputs": [
        {
          "output_type": "execute_result",
          "data": {
            "text/plain": [
              "1.0"
            ]
          },
          "metadata": {
            "tags": []
          },
          "execution_count": 154
        }
      ]
    },
    {
      "cell_type": "code",
      "metadata": {
        "id": "WAA5DFDuxDYJ",
        "colab_type": "code",
        "outputId": "dcdbcdfe-4f6c-4629-9f8f-9a88a12ba478",
        "colab": {
          "base_uri": "https://localhost:8080/",
          "height": 34
        }
      },
      "source": [
        "rs_svm_poly_read = recall_score(test_labels_read, svm_poly_read_pred)\n",
        "rs_svm_poly_read"
      ],
      "execution_count": 0,
      "outputs": [
        {
          "output_type": "execute_result",
          "data": {
            "text/plain": [
              "0.9991896272285251"
            ]
          },
          "metadata": {
            "tags": []
          },
          "execution_count": 155
        }
      ]
    },
    {
      "cell_type": "markdown",
      "metadata": {
        "id": "LuqyaLRpThdc",
        "colab_type": "text"
      },
      "source": [
        "# **Comparison Bar Charts**\n"
      ]
    },
    {
      "cell_type": "code",
      "metadata": {
        "id": "zD1n3ZNATqqk",
        "colab_type": "code",
        "outputId": "c7780081-975a-4ce4-a9f3-1e9e1d0d9142",
        "colab": {
          "base_uri": "https://localhost:8080/",
          "height": 288
        }
      },
      "source": [
        "names = ['RF', 'LinearSVM', 'NonLinearSVM',\"SGD\"]\n",
        "values = [as_rf_diag, as_svm_diag, as_sgd_diag, as_svm_poly_diag]\n",
        "plt.bar(names, values)\n",
        "plt.ylim(0.9995,1)\n",
        "plt.ylabel(\"Accuracy\")\n",
        "plt.title(\"Diagnosis Accuracy Chart\", color = \"blue\", fontsize = \"xx-large\")\n",
        "plt.show()"
      ],
      "execution_count": 0,
      "outputs": [
        {
          "output_type": "display_data",
          "data": {
            "image/png": "[encoded data removed]",
            "text/plain": [
              "<Figure size 432x288 with 1 Axes>"
            ]
          },
          "metadata": {
            "tags": []
          }
        }
      ]
    },
    {
      "cell_type": "markdown",
      "metadata": {
        "id": "ljOS3-Q0TyqJ",
        "colab_type": "text"
      },
      "source": [
        "**The Figure 2**, describes the ***Precision*** for Prediction of Diagnoses for diabetes"
      ]
    },
    {
      "cell_type": "code",
      "metadata": {
        "id": "zWX-Bdc2T1QV",
        "colab_type": "code",
        "outputId": "720332f9-7013-4d93-e3d0-6a54e7bda11f",
        "colab": {
          "base_uri": "https://localhost:8080/",
          "height": 288
        }
      },
      "source": [
        "names = ['RF', 'LinearSVM', 'NonLinearSVM',\"SGD\"]\n",
        "values = [ps_rf_diag, ps_svm_diag, ps_sgd_diag, ps_svm_poly_diag]\n",
        "plt.bar(names, values)\n",
        "plt.ylim(0.9995,1)\n",
        "plt.ylabel(\"Precision\")\n",
        "plt.title(\"Diagnosis Precision Chart\", color = \"blue\", fontsize = \"xx-large\")\n",
        "plt.show()"
      ],
      "execution_count": 0,
      "outputs": [
        {
          "output_type": "display_data",
          "data": {
            "image/png": "[encoded data removed]",
            "text/plain": [
              "<Figure size 432x288 with 1 Axes>"
            ]
          },
          "metadata": {
            "tags": []
          }
        }
      ]
    },
    {
      "cell_type": "markdown",
      "metadata": {
        "id": "btxnp5llT43r",
        "colab_type": "text"
      },
      "source": [
        "**The Figure 3**, describes the ***Recall*** for Prediction of Diagnoses for diabetes"
      ]
    },
    {
      "cell_type": "code",
      "metadata": {
        "id": "wEZGMwg1T68n",
        "colab_type": "code",
        "outputId": "db007fa1-2640-492f-c103-8c84e7bd4d6b",
        "colab": {
          "base_uri": "https://localhost:8080/",
          "height": 288
        }
      },
      "source": [
        "names = ['RF', 'LinearSVM', 'NonLinearSVM',\"SGD\"]\n",
        "values = [rs_rf_diag, rs_svm_diag, rs_sgd_diag, rs_svm_poly_diag]\n",
        "plt.bar(names, values)\n",
        "plt.ylabel(\"Recall\")\n",
        "plt.ylim(0.9995,1)\n",
        "plt.title(\"Diagnosis Recall Chart\", color = \"blue\", fontsize = \"xx-large\")\n",
        "plt.show()"
      ],
      "execution_count": 0,
      "outputs": [
        {
          "output_type": "display_data",
          "data": {
            "image/png": "[encoded data removed]",
            "text/plain": [
              "<Figure size 432x288 with 1 Axes>"
            ]
          },
          "metadata": {
            "tags": []
          }
        }
      ]
    },
    {
      "cell_type": "markdown",
      "metadata": {
        "id": "wvB4x1JqT9ox",
        "colab_type": "text"
      },
      "source": [
        "**The Figure 4**, describes the **Cross Validation Score** for Prediction of Diagnoses for diabetes"
      ]
    },
    {
      "cell_type": "code",
      "metadata": {
        "id": "fPeVqR2QUAq1",
        "colab_type": "code",
        "outputId": "2c7eb411-1873-4e8f-d56a-ab91c4dc9a09",
        "colab": {
          "base_uri": "https://localhost:8080/",
          "height": 288
        }
      },
      "source": [
        "names = ['RF', 'LinearSVM', 'NonLinearSVM',\"SGD\"]\n",
        "values = [RFCscore_d.mean(), SVMCscore_d.mean(), PolyCscore_d.mean(), SGDCscore_d.mean()]\n",
        "plt.bar(names, values)\n",
        "plt.ylabel(\"Cross Validation Score\")\n",
        "plt.ylim(0.9995,1)\n",
        "plt.title(\"Diagnosis Cross Validation Score Chart\", color = \"blue\", fontsize = \"xx-large\")\n",
        "plt.show()"
      ],
      "execution_count": 0,
      "outputs": [
        {
          "output_type": "display_data",
          "data": {
            "image/png": "[encoded data removed]",
            "text/plain": [
              "<Figure size 432x288 with 1 Axes>"
            ]
          },
          "metadata": {
            "tags": []
          }
        }
      ]
    },
    {
      "cell_type": "markdown",
      "metadata": {
        "id": "w5H0_8zJUDDt",
        "colab_type": "text"
      },
      "source": [
        "**Below four figures describes the Accuracy, Precision, Recall and Cross Validation Score for Prediction of re-admitted.**\n",
        "\n",
        "**Figure 5** describes the **Accuracy** percentage **Prediction of re-admitted**. "
      ]
    },
    {
      "cell_type": "code",
      "metadata": {
        "id": "ADW--waGUE_x",
        "colab_type": "code",
        "outputId": "8d770ca3-7815-436e-9baa-a7787c5c7a09",
        "colab": {
          "base_uri": "https://localhost:8080/",
          "height": 288
        }
      },
      "source": [
        "names = ['RF', 'LinearSVM', 'NonLinearSVM',\"SGD\"]\n",
        "values = [as_rf_read, as_svm_read, as_sgd_read, as_svm_poly_read]\n",
        "plt.bar(names, values)\n",
        "#plt.bar(\"Methods\", \"Stat\", data = accuracy_score, color = \"blue\")\n",
        "#plt.xlabel(\"RF\", \"SVM\" ,\"SGD\")\n",
        "plt.ylim(0.9995,1)\n",
        "plt.ylabel(\"Accuracy\")\n",
        "plt.title(\"Re-admision Accuracy Chart\", color = \"blue\", fontsize = \"xx-large\")\n",
        "plt.show()"
      ],
      "execution_count": 0,
      "outputs": [
        {
          "output_type": "display_data",
          "data": {
            "image/png": "[encoded data removed]",
            "text/plain": [
              "<Figure size 432x288 with 1 Axes>"
            ]
          },
          "metadata": {
            "tags": []
          }
        }
      ]
    },
    {
      "cell_type": "markdown",
      "metadata": {
        "id": "EUiQ-K5QUIxr",
        "colab_type": "text"
      },
      "source": [
        "**The Figure 6**, describes the ***Precision*** percentage prediction of re-admitted. "
      ]
    },
    {
      "cell_type": "code",
      "metadata": {
        "id": "Bwsj1ZDAUKz6",
        "colab_type": "code",
        "outputId": "d2df70ee-fdcf-424c-d4f9-195f5560f2e8",
        "colab": {
          "base_uri": "https://localhost:8080/",
          "height": 288
        }
      },
      "source": [
        "names = ['RF', 'LinearSVM', 'NonLinearSVM',\"SGD\"]\n",
        "values = [ps_rf_read, ps_svm_read, ps_sgd_read, ps_svm_poly_read]\n",
        "plt.bar(names, values)\n",
        "plt.ylabel(\"Precision\")\n",
        "plt.ylim(0.9995,1)\n",
        "plt.title(\"Re-admision Precision Chart\", color = \"blue\", fontsize = \"xx-large\")\n",
        "plt.show()"
      ],
      "execution_count": 0,
      "outputs": [
        {
          "output_type": "display_data",
          "data": {
            "image/png": "[encoded data removed]",
            "text/plain": [
              "<Figure size 432x288 with 1 Axes>"
            ]
          },
          "metadata": {
            "tags": []
          }
        }
      ]
    },
    {
      "cell_type": "markdown",
      "metadata": {
        "id": "fRg6xxp8UNmw",
        "colab_type": "text"
      },
      "source": [
        "**The Figure 7**, shows the **Recall** percentage prediction of re-admitted. "
      ]
    },
    {
      "cell_type": "code",
      "metadata": {
        "id": "6QpRQaTWUNNo",
        "colab_type": "code",
        "outputId": "197dc6fb-9077-4777-b93e-5e4a29962708",
        "colab": {
          "base_uri": "https://localhost:8080/",
          "height": 288
        }
      },
      "source": [
        "names = ['RF', 'LinearSVM', 'NonLinearSVM',\"SGD\"]\n",
        "values = [rs_rf_read, rs_svm_read, rs_sgd_read, rs_svm_poly_read]\n",
        "plt.bar(names, values)\n",
        "plt.ylabel(\"Recall\")\n",
        "plt.ylim(0.995,1)\n",
        "plt.title(\"Re-admision Recall Chart\", color = \"blue\", fontsize = \"xx-large\")\n",
        "plt.show()"
      ],
      "execution_count": 0,
      "outputs": [
        {
          "output_type": "display_data",
          "data": {
            "image/png": "[encoded data removed]",
            "text/plain": [
              "<Figure size 432x288 with 1 Axes>"
            ]
          },
          "metadata": {
            "tags": []
          }
        }
      ]
    },
    {
      "cell_type": "markdown",
      "metadata": {
        "id": "NVCrDWjcUSFd",
        "colab_type": "text"
      },
      "source": [
        "**The Figure 8**, describes the **Cross Validation Score**  of the various classifiers prediction of re-admitted. ."
      ]
    },
    {
      "cell_type": "code",
      "metadata": {
        "id": "IDiExvi6UUH1",
        "colab_type": "code",
        "outputId": "3de02365-ce48-42bc-ce59-a7d400be145c",
        "colab": {
          "base_uri": "https://localhost:8080/",
          "height": 288
        }
      },
      "source": [
        "names = ['RF', 'LinearSVM', 'NonLinearSVM',\"SGD\"]\n",
        "values = [RFCscore_r.mean(), SVMCscore_r.mean(), PolyCscore_r.mean(), SGDCscore_r.mean()]\n",
        "plt.bar(names, values)\n",
        "plt.ylabel(\"Cross Validation Score\")\n",
        "plt.title(\"Re-admision Cross Validation Score Chart\", color = \"blue\", fontsize = \"xx-large\")\n",
        "plt.ylim(0.9995,1)\n",
        "plt.show()"
      ],
      "execution_count": 0,
      "outputs": [
        {
          "output_type": "display_data",
          "data": {
            "image/png": "[encoded data removed]",
            "text/plain": [
              "<Figure size 432x288 with 1 Axes>"
            ]
          },
          "metadata": {
            "tags": []
          }
        }
      ]
    },
    {
      "cell_type": "markdown",
      "metadata": {
        "id": "sPX8IeAt1v_y",
        "colab_type": "text"
      },
      "source": [
        "# **Models Comparision**"
      ]
    },
    {
      "cell_type": "code",
      "metadata": {
        "id": "PAL6_KqU1xOL",
        "colab_type": "code",
        "outputId": "38236bbf-09ed-42d5-a147-f2ea19c08e27",
        "colab": {
          "base_uri": "https://localhost:8080/",
          "height": 173
        }
      },
      "source": [
        "models_com = pd.DataFrame({'Model':['Random Forrest','LinearSVM','SGD','NonLinerSVM'],\n",
        "                           'Diagnoses Accuracy':[as_rf_diag,as_svm_diag,as_sgd_diag,as_svm_poly_diag],\n",
        "                           'Readmitted Accuracy':[as_rf_read,as_svm_read,as_sgd_read,as_svm_poly_read],\n",
        "                           'Diagnoses Precision':[ps_rf_diag,ps_svm_diag,ps_sgd_diag,ps_svm_poly_diag],\n",
        "                           'Readmitted Precision':[ps_rf_read,ps_svm_read,ps_sgd_read,ps_svm_poly_read],\n",
        "                           'Diagnoses Recall':[rs_rf_diag,rs_svm_diag,rs_sgd_diag,rs_svm_poly_diag],\n",
        "                           'Readmitted recall':[rs_rf_read,rs_svm_read,rs_sgd_read,rs_svm_poly_read],})\n",
        "models_com"
      ],
      "execution_count": 0,
      "outputs": [
        {
          "output_type": "execute_result",
          "data": {
            "text/html": [
              "<div>\n",
              "<style scoped>\n",
              "    .dataframe tbody tr th:only-of-type {\n",
              "        vertical-align: middle;\n",
              "    }\n",
              "\n",
              "    .dataframe tbody tr th {\n",
              "        vertical-align: top;\n",
              "    }\n",
              "\n",
              "    .dataframe thead th {\n",
              "        text-align: right;\n",
              "    }\n",
              "</style>\n",
              "<table border=\"1\" class=\"dataframe\">\n",
              "  <thead>\n",
              "    <tr style=\"text-align: right;\">\n",
              "      <th></th>\n",
              "      <th>Model</th>\n",
              "      <th>Diagnoses Accuracy</th>\n",
              "      <th>Readmitted Accuracy</th>\n",
              "      <th>Diagnoses Precision</th>\n",
              "      <th>Readmitted Precision</th>\n",
              "      <th>Diagnoses Recall</th>\n",
              "      <th>Readmitted recall</th>\n",
              "    </tr>\n",
              "  </thead>\n",
              "  <tbody>\n",
              "    <tr>\n",
              "      <th>0</th>\n",
              "      <td>Random Forrest</td>\n",
              "      <td>1.000000</td>\n",
              "      <td>1.000000</td>\n",
              "      <td>1.000000</td>\n",
              "      <td>1.0</td>\n",
              "      <td>1.0</td>\n",
              "      <td>1.00000</td>\n",
              "    </tr>\n",
              "    <tr>\n",
              "      <th>1</th>\n",
              "      <td>LinearSVM</td>\n",
              "      <td>1.000000</td>\n",
              "      <td>1.000000</td>\n",
              "      <td>1.000000</td>\n",
              "      <td>1.0</td>\n",
              "      <td>1.0</td>\n",
              "      <td>1.00000</td>\n",
              "    </tr>\n",
              "    <tr>\n",
              "      <th>2</th>\n",
              "      <td>SGD</td>\n",
              "      <td>0.999929</td>\n",
              "      <td>1.000000</td>\n",
              "      <td>0.999818</td>\n",
              "      <td>1.0</td>\n",
              "      <td>1.0</td>\n",
              "      <td>1.00000</td>\n",
              "    </tr>\n",
              "    <tr>\n",
              "      <th>3</th>\n",
              "      <td>NonLinerSVM</td>\n",
              "      <td>1.000000</td>\n",
              "      <td>0.999929</td>\n",
              "      <td>1.000000</td>\n",
              "      <td>1.0</td>\n",
              "      <td>1.0</td>\n",
              "      <td>0.99919</td>\n",
              "    </tr>\n",
              "  </tbody>\n",
              "</table>\n",
              "</div>"
            ],
            "text/plain": [
              "            Model  Diagnoses Accuracy  ...  Diagnoses Recall  Readmitted recall\n",
              "0  Random Forrest            1.000000  ...               1.0            1.00000\n",
              "1       LinearSVM            1.000000  ...               1.0            1.00000\n",
              "2             SGD            0.999929  ...               1.0            1.00000\n",
              "3     NonLinerSVM            1.000000  ...               1.0            0.99919\n",
              "\n",
              "[4 rows x 7 columns]"
            ]
          },
          "metadata": {
            "tags": []
          },
          "execution_count": 164
        }
      ]
    }
  ]
}